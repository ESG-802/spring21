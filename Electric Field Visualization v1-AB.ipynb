{
 "cells": [
  {
   "cell_type": "code",
   "execution_count": 1,
   "metadata": {},
   "outputs": [
    {
     "data": {
      "application/vnd.jupyter.widget-view+json": {
       "model_id": "f2c332b75499433d9e310f2d18459c6a",
       "version_major": 2,
       "version_minor": 0
      },
      "text/plain": [
       "FloatProgress(value=0.0, max=7200.0)"
      ]
     },
     "metadata": {},
     "output_type": "display_data"
    },
    {
     "name": "stdout",
     "output_type": "stream",
     "text": [
      "Session started, will remain active for two hours as counted by the progress bar\n"
     ]
    }
   ],
   "source": [
    "from new_session import *\n",
    "start_session()"
   ]
  },
  {
   "cell_type": "markdown",
   "metadata": {},
   "source": [
    "<h1>Calculation nd Visualization of Electric Fields</h1>\n",
    "\n",
    "In this lab, you will \n",
    "\n",
    "<ol>\n",
    "    <li> Calculate the E-field produced by a point charge.</li>\n",
    "    <li> Run a code utilizing the VPython pacakge to visualize the superposition of electric fields created by point charges in a square.</li>\n",
    "    <li> Run a code utilizing the VPython pacakge to visualize the electric field produced by a dipole at given points in space.</li>\n",
    "</ol>\n",
    "\n",
    "We provide you with a code that's mostly ready to use. You just need to fill in a few lines and run it.\n",
    "\n",
    "If you are not familiar with Python, at the end of this page you will find <b>Python Warm Ups</b> exercises. \n",
    "\n",
    "(Mohamed, I added more things for the novice students in the warm up section, please check it at the end, do we do another notebook? do you think is too much?)\n",
    "\n"
   ]
  },
  {
   "cell_type": "markdown",
   "metadata": {},
   "source": [
    "<h2>Task 1: Calculate the electric field of a point charge</h2>\n",
    "\n",
    "The electric field produced by a point charge $q$ at a point P in space is given by \n",
    "\n",
    "\n",
    "$$\\vec{\\mathbf{E}} =kq\\frac{( \\vec{\\mathbf{r}}_P-\\vec{\\mathbf{r}}_S )}{| \\vec{\\mathbf{r}}_P-\\vec{\\mathbf{r}}_S |^3} \\;\\;\\; \\mbox{(eq. 1)}$$\n",
    "\n",
    "\n",
    "where \n",
    "\n",
    "$k=\\frac{1}{4\\pi\\epsilon_0}$ is the Coulomb constant\n",
    "\n",
    "$\\vec{\\mathbf{r}}_S $= source point, or the position of the charge producing the E-field\n",
    "\n",
    "$\\vec{\\mathbf{r}}_P $= field point, or the position of point P where we want to calculate the E-field.\n",
    "\n",
    "\n",
    "To find the x,y and z components of the E-field, we need to express the vectors $\\vec{\\mathbf{r}}_S $ and $\\vec{\\mathbf{r}}_P $ in cartesian coordinates. If the coordinates of the source point are:\n",
    "\n",
    "$$\\vec{\\mathbf{r}}_S = (x_S, y_S, z_S)$$\n",
    "\n",
    "and the coordinates of the field point are:\n",
    "\n",
    "$$\\vec{\\mathbf{r}}_P = (x_P, y_P, z_P)$$\n",
    "\n",
    "then\n",
    "\n",
    "$$\\vec{\\mathbf{r}}_P-\\vec{\\mathbf{r}}_S = (x_P-x_S)\\; \\hat{\\mathbf{i}} + (y_P-y_S)\\; \\hat{\\mathbf{j}} + (z_P-z_S) \\;\\hat{\\mathbf{k}} \\;\\;\\;\\; \\mbox{(eq. 2)}$$\n",
    "\n",
    "Note that the denominator in the expression of the E-field in (eq. 1) is the cube of the distance between the charge $q$ and point P. We will call this distance $rSP$ and is defined as \n",
    "\n",
    "$$rSP = |\\vec{\\mathbf{r}}_P-\\vec{\\mathbf{r}}_S|  \\;\\;\\; \\mbox{(eq. 3)}$$\n",
    "\n",
    "The above equations should help you when you fill in the function \"Calculate_E( )\" in the code below. \n",
    "\n",
    "\n",
    "<b>Please fill in the missing lines in the following code. We provide some test cases so that you can check your work.</b>\n"
   ]
  },
  {
   "cell_type": "code",
   "execution_count": 3,
   "metadata": {},
   "outputs": [
    {
     "data": {
      "text/html": [
       "<div id=\"glowscript\" class=\"glowscript\"></div>"
      ],
      "text/plain": [
       "<IPython.core.display.HTML object>"
      ]
     },
     "metadata": {},
     "output_type": "display_data"
    },
    {
     "data": {
      "application/javascript": [
       "if (typeof Jupyter !== \"undefined\") { window.__context = { glowscript_container: $(\"#glowscript\").removeAttr(\"id\")};}else{ element.textContent = ' ';}"
      ],
      "text/plain": [
       "<IPython.core.display.Javascript object>"
      ]
     },
     "metadata": {},
     "output_type": "display_data"
    },
    {
     "name": "stdout",
     "output_type": "stream",
     "text": [
      "[0.0, 2.246887946999478, 0.0]\n",
      "[-0.7644068026886632, 1.5288136053773265, -0.7644068026886632]\n",
      "[0.17284463695641594, 0.3456892739128319, 0.057614878985471976]\n"
     ]
    }
   ],
   "source": [
    "#Here we're importing the vpython package used to draw the charges and field arrows\n",
    "from vpython import *\n",
    "\n",
    "\n",
    "#Here we will complete a function that calculates the E field of a point charge at some point in space\n",
    "\n",
    "def calculate_E(q,r_S,r_P):\n",
    "    \n",
    "    #The function takes the following generic inputs:\n",
    "    #q: value of the point charge in [C],\n",
    "    #r_S: [x_S,y_S,z_S] coordinates of the source point in [m],\n",
    "    #r_P: [x_P,y_P,z_P] coordinates of point P in [m]\n",
    "    #The function returns [E_x,E_y,E_z], the x,y & z components of the E field at point P\n",
    "    \n",
    "    #Defining the constants epsilon_0 and k\n",
    "    \n",
    "    e0 = 8.854187817e-12  \n",
    "    k = 1.0 / (4 * pi * e0)\n",
    "\n",
    "    #First: Calculate the distance rSP between the charge and point P: \n",
    "    #use sqrt( ) for square root and x**2 for x^2. \n",
    "    #use for coordiantes for charge x_S=r_S[0], y_S=r_S[1], z_S=r_S[2]. Same for point P\n",
    "\n",
    "    #rSP = FILL IN \n",
    "    rSP = sqrt(((r_P[0]-r_S[0])**2) + ((r_P[1]-r_S[1])**2) + ((r_P[2]-r_S[2])**2))\n",
    "      \n",
    "    \n",
    "    #Second: Calculate the field components using E, r and the coordinates of q and P\n",
    "    #E_x = FILL IN\n",
    "    #E_y = FILL IN\n",
    "    #E_z = FILL IN\n",
    "    # Review (eq. 1) for the E-field.\n",
    "    \n",
    "    E_x = k*q *( (r_P[0]-r_S[0]) / rSP**3) \n",
    "    E_y = k*q *( (r_P[1]-r_S[1]) / rSP**3) \n",
    "    E_z = k*q *( (r_P[2]-r_S[2]) / rSP**3)      \n",
    "    return([E_x,E_y,E_z])\n",
    "\n",
    "#Test cases:\n",
    "print(calculate_E(1e-9,[0,0,0],[0,2,0]))       #should return [0.0, 2.246887946999478, 0.0]\n",
    "print(calculate_E(-5e-9,[-2,1,0],[0,-3,2]))    #should return [-0.7644068026886633, 1.5288136053773267, -0.7644068026886633]\n",
    "print(calculate_E(-2e-9,[-1,3,-2],[-4,-3,-3])) #should return [0.17284463695641594, 0.3456892739128319, 0.05761487898547198]\n",
    "\n"
   ]
  },
  {
   "cell_type": "markdown",
   "metadata": {},
   "source": [
    "<h2>Time to visualize those components!</h2> <br> Only proceed to the following part if you finished task 1. Only then, the whole visualization program is complete and ready to use.\n",
    "\n",
    "In this part, we will use our program to analyze some charge configurations.\n",
    "<h2>Task 2: Four point charges at the corners of a square with center at the origin. </h2>\n",
    "<img src=\"images/square.png\" width=200 />\n",
    "\n",
    "On a piece of paper, please draw the configuration shown in the picture above and determine the direction of the net E field at the center of square without calculations. When you are done with your drawing check if your answer matches the one obtained by running the visualization below.\n",
    "\n",
    "<b>Note: </b> In the visulaization we will use $Q = {10}^{-10} C$ and a square of length $L= 2m$. If your \"Calculate_E( )\" function above is ready, you don't need to change any part of the following code, just run it.\n"
   ]
  },
  {
   "cell_type": "code",
   "execution_count": 4,
   "metadata": {},
   "outputs": [
    {
     "data": {
      "text/html": [
       "<div id=\"glowscript\" class=\"glowscript\"></div>"
      ],
      "text/plain": [
       "<IPython.core.display.HTML object>"
      ]
     },
     "metadata": {},
     "output_type": "display_data"
    },
    {
     "data": {
      "application/javascript": [
       "if (typeof Jupyter !== \"undefined\") { window.__context = { glowscript_container: $(\"#glowscript\").removeAttr(\"id\")};}else{ element.textContent = ' ';}"
      ],
      "text/plain": [
       "<IPython.core.display.Javascript object>"
      ]
     },
     "metadata": {},
     "output_type": "display_data"
    },
    {
     "data": {
      "application/javascript": [
       "if (typeof Jupyter !== \"undefined\") {require.undef(\"nbextensions/vpython_libraries/glow.min\");}else{element.textContent = ' ';}"
      ],
      "text/plain": [
       "<IPython.core.display.Javascript object>"
      ]
     },
     "metadata": {},
     "output_type": "display_data"
    },
    {
     "data": {
      "application/javascript": [
       "if (typeof Jupyter !== \"undefined\") {require.undef(\"nbextensions/vpython_libraries/glowcomm\");}else{element.textContent = ' ';}"
      ],
      "text/plain": [
       "<IPython.core.display.Javascript object>"
      ]
     },
     "metadata": {},
     "output_type": "display_data"
    },
    {
     "data": {
      "application/javascript": [
       "if (typeof Jupyter !== \"undefined\") {require.undef(\"nbextensions/vpython_libraries/jquery-ui.custom.min\");}else{element.textContent = ' ';}"
      ],
      "text/plain": [
       "<IPython.core.display.Javascript object>"
      ]
     },
     "metadata": {},
     "output_type": "display_data"
    },
    {
     "data": {
      "application/javascript": [
       "if (typeof Jupyter !== \"undefined\") {require([\"nbextensions/vpython_libraries/glow.min\"], function(){console.log(\"GLOW LOADED\");});}else{element.textContent = ' ';}"
      ],
      "text/plain": [
       "<IPython.core.display.Javascript object>"
      ]
     },
     "metadata": {},
     "output_type": "display_data"
    },
    {
     "data": {
      "application/javascript": [
       "if (typeof Jupyter !== \"undefined\") {require([\"nbextensions/vpython_libraries/glowcomm\"], function(){console.log(\"GLOWCOMM LOADED\");});}else{element.textContent = ' ';}"
      ],
      "text/plain": [
       "<IPython.core.display.Javascript object>"
      ]
     },
     "metadata": {},
     "output_type": "display_data"
    },
    {
     "data": {
      "application/javascript": [
       "if (typeof Jupyter !== \"undefined\") {require([\"nbextensions/vpython_libraries/jquery-ui.custom.min\"], function(){console.log(\"JQUERY LOADED\");});}else{element.textContent = ' ';}"
      ],
      "text/plain": [
       "<IPython.core.display.Javascript object>"
      ]
     },
     "metadata": {},
     "output_type": "display_data"
    }
   ],
   "source": [
    "\n",
    "# This is the ready function to draw the configuration and the fields. You don't need to read through this function\n",
    "# Just treat it as a black box that draws the configuration (unless you're interested in knowing how it works :) )\n",
    "def draw_configuration(charges,loc,points,draw_contributions = True):\n",
    "    scene = canvas() \n",
    "    for point in points:\n",
    "        Es = [calculate_E(charges[index],loc[index],point) for index in range(len(charges))]\n",
    "        E_tot = [sum(E) for E in zip(*Es)]\n",
    "        colors = [color.blue if charge<0 else color.red for charge in charges]\n",
    "        radii = [0.5e9*abs(charge) for charge in charges]\n",
    "        for index in range(len(charges)):\n",
    "            sphere(pos=vector(loc[index][0],loc[index][1],loc[index][2]), radius=radii[index], color=colors[index])\n",
    "        if mag(vector(E_tot[0], E_tot[1],E_tot[2])) >0:\n",
    "            Earrow_tot=arrow(pos=vector(point[0],point[1],point[2]), axis=vector(E_tot[0], E_tot[1],E_tot[2]), shaftwidth=0.05,color=color.green)\n",
    "        if draw_contributions:\n",
    "            for index in range(len(Es)):\n",
    "                E = Es[index]\n",
    "                arrow(pos=vector(point[0],point[1],point[2]), axis=vector(E[0], E[1],E[2]),  shaftwidth=0.03,color=colors[index])\n",
    "\n",
    "\n",
    "# To run the code, just supply the draw_configuration( ) function with the charges, their locations and the points to calc E\n",
    "\n",
    "charges = [-2e-10,2e-10,-1e-10,1e-10]               #Fill in the value of the charges\n",
    "locations = [[1,1,0],[-1,1,0],[-1,-1,0],[1,-1,0]]   #Fill in position of charges in (m)\n",
    "points = [[0,0,0]]                                  #Fill in position of point to calculate E-field in (m)\n",
    "draw_configuration(charges,locations,points)\n",
    "\n",
    "#First run takes about 10 seconds to load. \n",
    "#Please save a screenshot of your output. \n",
    "#You're welcome to experiment with the above values, e.g. change the signs, values, locations of charges."
   ]
  },
  {
   "cell_type": "markdown",
   "metadata": {},
   "source": [
    "<h2>Task 3: Visualize the electric field of a dipole along its axis of symmetry </h2>\n",
    "<img src=\"images/dipole.png\" height=20 />\n",
    "\n",
    "In this example, we will use the program we built to draw the E-field of a dipole that lies along the y-axis at different points along the x-axis. The origin of the coordinate system is at the middle point between the two charges. Before running the simulation, draw the E-field vectors at different point along the x-axis. Check if your drawing matches the output of the simulation\n",
    "\n",
    "<b> Note:</b> In the simulation we use  $Q = {10}^{-10} C$ and the distance between charges $d= 3m$. You only need to modify the lists below that define the values and locations of charges and the points to draw the field at. Draw the field at multiple points along the x-axis within the range $x \\in$ [-2,2].\n"
   ]
  },
  {
   "cell_type": "code",
   "execution_count": 5,
   "metadata": {},
   "outputs": [
    {
     "data": {
      "text/html": [
       "<div id=\"glowscript\" class=\"glowscript\"></div>"
      ],
      "text/plain": [
       "<IPython.core.display.HTML object>"
      ]
     },
     "metadata": {},
     "output_type": "display_data"
    },
    {
     "data": {
      "application/javascript": [
       "if (typeof Jupyter !== \"undefined\") { window.__context = { glowscript_container: $(\"#glowscript\").removeAttr(\"id\")};}else{ element.textContent = ' ';}"
      ],
      "text/plain": [
       "<IPython.core.display.Javascript object>"
      ]
     },
     "metadata": {},
     "output_type": "display_data"
    }
   ],
   "source": [
    "#Students to fill in these values\n",
    "#charges = FILL IN\n",
    "#locations = FILL IN\n",
    "#points = FILL IN\n",
    "\n",
    "charges = [-1e-10,1e-10]\n",
    "locations = [[0,1.5,0],[0,-1.5,0]]\n",
    "points = [[0,0,0],[0.5,0,0],[-0.5,0,0],[-1,0,0],[1,0,0],[-2,0,0],[2,0,0],[-1.5,0,0],[1.5,0,0]]\n",
    "\n",
    "draw_configuration(charges,locations,points)"
   ]
  },
  {
   "cell_type": "markdown",
   "metadata": {
    "collapsed": true
   },
   "source": [
    "Finally, we strongly encourage you to explore more charge configurations and play around with the values and location of charges. For example, plot the electric field of the dipole at points not along the symmetry axis. Or think of any charge configuration you're interested in and explore the fields it creates."
   ]
  },
  {
   "cell_type": "markdown",
   "metadata": {},
   "source": [
    "<h1>Preliminary Python warmup - (Skip it if you are familiar with Python)</h1>\n",
    "\n",
    "\n",
    "<h2> 1.  Basic operations:</h2>\n",
    "\n",
    "\n",
    "\n",
    "<h3> a) Addition, substraction, multiplication abd division</h3> \n",
    "\n",
    "The grey box preceeded by <font color=\"light blue\"><b>In [ ] :</b></font>is called a cell. \n",
    "\n",
    "Type in the cell a statement, example: 2+3, \n",
    "\n",
    "Click <font color=\"blue\"><b>Run</b></font> in the top menu. \n",
    "\n",
    "The answer or output is shown below the cell, by <b><font color=\"red\">Out[ ] = </font></b>.\n"
   ]
  },
  {
   "cell_type": "code",
   "execution_count": 6,
   "metadata": {},
   "outputs": [
    {
     "data": {
      "text/plain": [
       "5"
      ]
     },
     "execution_count": 6,
     "metadata": {},
     "output_type": "execute_result"
    }
   ],
   "source": []
  },
  {
   "cell_type": "markdown",
   "metadata": {},
   "source": [
    "You can delete 2+3 and enter other statements. Example:  5-7, 6/2, 3*4. Always click Run to see the output\n",
    "\n",
    "\n",
    "<h3> b) Exponentiation:</h3>\n",
    "\n",
    "This one is tricky!!  For $2^3$ type 2**3 . Try it!\n",
    "\n"
   ]
  },
  {
   "cell_type": "markdown",
   "metadata": {},
   "source": [
    "<h2> 2. Storing information in variables</h2>\n",
    "\n",
    "In Python, variables are created when you assign a value to it:\n",
    "<ul>\n",
    "\n",
    "<li>Example 1: The statement <b>a = 5.2</b>  assigns the number <b>5.2</b> to the variable <b>a</b>.</li>\n",
    "\n",
    "<li>Example 2: The statement <b>b = \"Hello ESG\"</b> assigns the string <b>Hello ESG</b> to the varible <b>b</b>. </li>\n",
    "</ul>\n",
    "\n",
    "<b>Note:</b> the quotation marks are used in text (or strings).\n",
    "\n",
    "\n",
    "<h2> 3. Print statement - SUPER USEFUL!! </h2>\n",
    "\n",
    "The <b>print( ) function </b> prints to the screen anything you put between the parenthesis. Let's try this function. Type in the cell below:\n",
    "\n",
    "<ul>   \n",
    "    <li><b>a = 5.2</b></li>\n",
    "    <li><b>b = \"Hello ESG\"</b></li>\n",
    "    <li>Click <b>Run</b></li>    \n",
    "</ul>\n",
    "\n",
    "Nothing happens! \n",
    "\n",
    "If you want to know what is stored in the variables <b>a</b> and <b>b</b> just use the print( ) function typing in the cell the following sttements:\n",
    "\n",
    "<ul> \n",
    "    <li><b>print(a)</b></li>\n",
    "    <li><b>print(b)</b></li>\n",
    "    <li>Click <b>Run</b></li>\n",
    "</ul>\n",
    "    \n",
    "\n",
    "You can also be more explicit by adding some text to describe what are you printing. <b> Note:</b> you must put the text between quotation marks as follows:\n",
    "\n",
    "<ul> \n",
    "    <li><b>print( \"this is what I stored in a:\", a )</b></li>\n",
    "</ul>\n",
    "\n",
    "Also, note that we separate the two arguments inside the parenthesis by a comma.\n",
    "\n",
    "\n",
    "\n",
    "\n"
   ]
  },
  {
   "cell_type": "code",
   "execution_count": null,
   "metadata": {},
   "outputs": [],
   "source": []
  },
  {
   "cell_type": "markdown",
   "metadata": {},
   "source": [
    "<h3> 4. Storing information in a LIST.</h3>\n",
    "\n",
    "A List is used to store multiple items in a single variable. It is defined by listing the items comma separated between square brackets\n",
    "\n",
    "Example: Store the numbers 2, -3, and 8 in the list call MyList\n",
    " \n",
    "<ul>\n",
    "    <li><b>MyList = [ 2, -3, 8]</b></li>\n",
    "</ul>\n",
    "\n",
    "You can print to the screen all the list by typing:\n",
    "<ul>\n",
    "    <li><b>print( MyList )</b></li>\n",
    "</ul>\n",
    "\n",
    "You can also print the elements of the list. In Python, the index of a list starts at 0. In this example, MyList has a length of 3 so the index tarts at 0 and ends at 2. Check it by typing:\n",
    "\n",
    "<ul>\n",
    "    <li>print(\"First element of MyList is:\" , MyList[ 0 ] )</li>\n",
    "    <li>print(\"Second element of MyList is:\" , MyList[ 1 ] )</li>\n",
    "    <li>print(\"Third elemnt of MyList is:\" , MyList[ 2 ] )</li>\n",
    "    <li>Click <b>Run</b></li>\n",
    "</ul>\n",
    "\n"
   ]
  },
  {
   "cell_type": "code",
   "execution_count": null,
   "metadata": {
    "scrolled": true
   },
   "outputs": [],
   "source": [
    "\n"
   ]
  },
  {
   "cell_type": "markdown",
   "metadata": {},
   "source": [
    "<h3> 5. Adding explanatory text to your code </h3>\n",
    "\n",
    "Anything preceeded by the hash symbol # is a \"comment\", only written for explaining what the code does but not part of the actual code. See an example below:\n"
   ]
  },
  {
   "cell_type": "code",
   "execution_count": null,
   "metadata": {},
   "outputs": [],
   "source": [
    "NewList = [1,2,3,4]  # Here is my new list\n",
    "\n",
    "#I will print the 3rd elemenet of the list aand I will NOT print the 1st element\n",
    "\n",
    "print(\"The 3rd element\", NewList[2])\n",
    "#print(\"The 1st element\", NewList[0]))\n",
    "print(\"Note that nothing behnd the # is executed\")\n",
    "\n",
    "# Do not forget to Click Run\n"
   ]
  },
  {
   "cell_type": "markdown",
   "metadata": {},
   "source": [
    "<h3>6. Functions in Python  </h3>\n",
    "\n",
    "Python comes with a large library of functions, print( ) is one of them. You can also write your own function! A function is a generic piece of code that can be used repeatedly, takes a number of inputs, processes them and returns an output. Here is an example of a function, the input is an number and the output is the square of the number. We will call this function square( ). Here is the syntax:\n",
    "\n",
    "def square(x):\n",
    "\n",
    "   return x**2\n",
    "\n",
    "To use the function you need to call it. One example on how to make the square function work is shown in the cell below"
   ]
  },
  {
   "cell_type": "code",
   "execution_count": null,
   "metadata": {},
   "outputs": [],
   "source": [
    "def square(x):\n",
    "   return x**2\n",
    "\n",
    "z = square(6)\n",
    "print(z)"
   ]
  }
 ],
 "metadata": {
  "kernelspec": {
   "display_name": "Python 3",
   "language": "python",
   "name": "python3"
  },
  "language_info": {
   "codemirror_mode": {
    "name": "ipython",
    "version": 3
   },
   "file_extension": ".py",
   "mimetype": "text/x-python",
   "name": "python",
   "nbconvert_exporter": "python",
   "pygments_lexer": "ipython3",
   "version": "3.7.8"
  }
 },
 "nbformat": 4,
 "nbformat_minor": 1
}
