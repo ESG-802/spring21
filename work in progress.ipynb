{
 "cells": [
  {
   "cell_type": "markdown",
   "metadata": {},
   "source": [
    "Please run The following cell to start your two-hour session"
   ]
  },
  {
   "cell_type": "code",
   "execution_count": null,
   "metadata": {
    "collapsed": true
   },
   "outputs": [],
   "source": [
    "from new_session import *\n",
    "start_session()"
   ]
  },
  {
   "cell_type": "markdown",
   "metadata": {},
   "source": [
    "<h1>Lab 2: Visualization of Electric Field Symmetries and Gauss's Law</h1>\n",
    "\n",
    "In this lab, you will be exploring the three symmetries for which Gauss's Law can be applied to calculate the electric field: spherical, cylindrical and planar symmetries. In this exploration, you will\n",
    "\n",
    "<ol>\n",
    "    <li> Visualize the electric field produced by uniformly-charged spheres, cylinders and slabs, both inside and outside of the charged source.</li>\n",
    "    <li> Choose the appropriate shape, dimensions and location of Gaussian surface needed for each case.</li>\n",
    "</ol>\n",
    "\n",
    "We have extended the code you used and edited in Lab 1 so that it can plot the E field of symmetric continuous shapes. At the very core of the code, the calculate_E() function that you wrote is calculating the E field of small contributions along the shape and then they are added together, i.e. integrating the field over the volume of the shape.\n"
   ]
  },
  {
   "cell_type": "code",
   "execution_count": null,
   "metadata": {
    "collapsed": true
   },
   "outputs": [],
   "source": [
    "#To Analia and Paola, still debating whether to hide all these functions in a seprarte file and import them or just keep them.\n",
    "\n",
    "from vpython import *\n",
    "\n",
    "def calculate_E(q,r_S,r_P):\n",
    "    e0 = 8.854187817e-12  \n",
    "    k = 1.0 / (4 * pi * e0)\n",
    "    rSP = sqrt(((r_P[0]-r_S[0])**2) + ((r_P[1]-r_S[1])**2) + ((r_P[2]-r_S[2])**2))\n",
    "    E_x = k*q *( (r_P[0]-r_S[0]) / rSP**3) \n",
    "    E_y = k*q *( (r_P[1]-r_S[1]) / rSP**3) \n",
    "    E_z = k*q *( (r_P[2]-r_S[2]) / rSP**3)      \n",
    "    return([E_x,E_y,E_z])\n",
    "\n",
    "\n",
    "def draw_configuration(charges,loc,points,draw_contributions = True, mode = None):\n",
    "    \n",
    "    if mode !=None:\n",
    "        draw_contributions = False\n",
    "    for point in points:\n",
    "        Es = [calculate_E(charges[index],loc[index],point) for index in range(len(charges))]\n",
    "        E_tot = [sum(E) for E in zip(*Es)]\n",
    "        colors = [color.blue if charge<0 else color.red for charge in charges]\n",
    "        radii = [0.5e9*abs(charge) for charge in charges]\n",
    "        if mode==None:\n",
    "            for index in range(len(charges)):\n",
    "                sphere(pos=vector(loc[index][0],loc[index][1],loc[index][2]), radius=radii[index], color=colors[index])\n",
    "        Emagn = mag(vector(E_tot[0], E_tot[1],E_tot[2]))\n",
    "        scale = 1\n",
    "        if  Emagn >0:\n",
    "            if mode !=None:\n",
    "                scale = 1. / Emagn \n",
    "            E_tot = [e*scale for e in E_tot]\n",
    "            if mode !=None and charges[0]<0:\n",
    "                Earrow_tot=arrow(pos=vector(-E_tot[0]+point[0],-E_tot[1]+point[1],-E_tot[2]+point[2]), axis=vector(E_tot[0], E_tot[1],E_tot[2]), shaftwidth=0.05,color=color.green)\n",
    "            else:\n",
    "                Earrow_tot=arrow(pos=vector(point[0],point[1],point[2]), axis=vector(E_tot[0], E_tot[1],E_tot[2]), shaftwidth=0.05,color=color.green)\n",
    "        if draw_contributions:\n",
    "            for index in range(len(Es)):\n",
    "                E = [e*scale for e in Es[index]]\n",
    "                arrow(pos=vector(point[0],point[1],point[2]), axis=vector(E[0], E[1],E[2]),  shaftwidth=0.03,color=colors[index])\n",
    "\n",
    "\n",
    "def draw_charged_sphere(charge=1e-9,radius=1,distance=2):\n",
    "    scene = canvas() \n",
    "    col = color.blue \n",
    "    if charge>0:\n",
    "        col = color.red \n",
    "    sphere(pos=vector(0,0,0), radius=radius, color=col,opacity = 0.5)\n",
    "    if distance < radius:\n",
    "        charge = charge*(distance**3)/(radius**3)\n",
    "        \n",
    "    d = distance/(sqrt(2))\n",
    "    points = [[0,0,distance],[0,distance,0],[distance,0,0]]\n",
    "    points+= [[0,0,-distance],[0,-distance,0],[-distance,0,0]]\n",
    "    points+= [[0,d,d],[d,d,0],[d,0,d],[0,-d,-d],[-d,-d,0],[-d,0,-d]]\n",
    "    points+= [[0,-d,d],[-d,d,0],[-d,0,d],[0,d,-d],[d,-d,0],[d,0,-d]]\n",
    "    \n",
    "    draw_configuration([charge],[[0,0,0]],points,draw_contributions = False, mode = \"sphere\")\n",
    "\n",
    "def draw_charged_cylinder(lambda0=1e-9,length=10,radius=1,distance=2):\n",
    "    scene = canvas() \n",
    "    s = \"In VPython programs:\\n\"\n",
    "    s += \"    Rotate the camera by dragging with the right mouse button,\\n        or hold down the Ctrl key and drag.\\n\"\n",
    "    s += \"    To zoom, drag with the left+right mouse buttons,\\n         or hold down the Alt/Option key and drag,\\n         or use the mouse wheel.\\n\"\n",
    "    s += \"Touch screen: pinch/extend to zoom, swipe or two-finger rotate.\"\n",
    "    scene.caption = s\n",
    "    col = color.blue \n",
    "    if lambda0>0:\n",
    "        col = color.red \n",
    "    cylinder(pos=vector(-length/2,0,0),axis=vector(length,0,0), radius=radius, color=col,opacity = 0.5)\n",
    "    if distance <radius:\n",
    "        lambda0 = lambda0*(distance**2)/(radius**2)\n",
    "    dx = length/1000\n",
    "    charges = []\n",
    "    locs = []\n",
    "    for x in arange(-length/2, length/2, dx):\n",
    "        charges.append(lambda0*dx)\n",
    "        locs.append([x,0,0])\n",
    "    d = distance/(sqrt(2))\n",
    "    points = []\n",
    "    for x in arange(-int(length/2), int(length/2)):\n",
    "        points += [[x,0,distance],[x,distance,0]]\n",
    "\n",
    "        points+= [[x,0,-distance],[x,-distance,0]]\n",
    "        points+= [[x,d,d],[x,-d,-d]]\n",
    "        points+= [[x,-d,d],[x,d,-d]]\n",
    "    points+= [[-length/1.98,0,0],[0.05+length/1.98,0,0],[-length/1.6,0,0],[0.05+length/1.6,0,0]]\n",
    "    draw_configuration(charges,locs,points,draw_contributions = False, mode = \"cylinder\")\n",
    "\n",
    "def draw_charged_slab(rho=1e-9,length=10,width=1,height=10,distance=2):\n",
    "    scene = canvas() \n",
    "    col = color.blue \n",
    "    if rho>0:\n",
    "        col = color.red \n",
    "        \n",
    "    box(pos=vector(0,0,0),length=length,height=height,width=width, color=col,opacity = 0.5)\n",
    "    if distance <width/2:\n",
    "        rho = 2*rho*(distance)/(width)\n",
    "    dx = length/50\n",
    "    dy = width/50\n",
    "    charges = []\n",
    "    locs = []\n",
    "    for x in arange(-length/2, length/2, dx):\n",
    "        for y in arange(-height/2,height/2,dy):\n",
    "            charges.append(rho*distance*dx*dy)\n",
    "            locs.append([x,y,0])\n",
    "    d = distance/(sqrt(2))\n",
    "    points = []\n",
    "    for x in arange(-int(length/2), int(length/2)):\n",
    "        for y in arange(-int(height/2), int(height/2)):\n",
    "            points += [[x,y,distance],[x,y,-distance]]\n",
    "    for y in arange(-int(height/2), int(height/2)):\n",
    "        points+= [[-length/1.98,y,0],[0.05+length/1.98,y,0]]\n",
    "    draw_configuration(charges,locs,points,draw_contributions = False, mode = \"plane\")\n",
    "\n",
    "    \n",
    "def draw_Gaussian_surface(mode,radius=1,circle_centers=[[0,0,0],[10,0,0]]):\n",
    "    if mode ==\"sphere\":\n",
    "        sphere(pos=vector(0,0,0),radius=radius,color=color.white,opacity = 0.2)\n",
    "    if mode ==\"cylinder\":\n",
    "        base = circle_centers[0]\n",
    "        diff = [circle_centers[1][i]-base[i] for i in range(3)]\n",
    "        cylinder(pos=vector(base[0],base[1],base[2]),axis=vector(diff[0],diff[1],diff[2]), radius=radius, color=color.white,opacity = 0.2)\n"
   ]
  },
  {
   "cell_type": "markdown",
   "metadata": {},
   "source": [
    "<h2>Task 1: Visualize the Electric Field of a Uniformly Charged Insulating Sphere</h2>\n",
    "\n",
    "Let's first explore how the electric field of a uniformly charged insulating sphere looks like in 3D. Use the cell below to run the visualization of the sphere. The function we built for a sphere takes three arguments:\n",
    "\n",
    "<ol>\n",
    "    <li>radius: radius of the sphere</li>\n",
    "    <li>charge: total charge of the sphere</li>\n",
    "    <li>distance: the distance from the origin of the sphere at which the E field is calculated and visualized</li>\n",
    "</ol>\n",
    "\n",
    "Please keep the charge in the nC order of magnitude (~1e-9 C) but experiment with all arguments to generate the E field for positive and negative spheres, both inside and outside of the sphere. Take screenshots for all four cases."
   ]
  },
  {
   "cell_type": "code",
   "execution_count": 157,
   "metadata": {
    "collapsed": false
   },
   "outputs": [
    {
     "data": {
      "text/html": [
       "<div id=\"glowscript\" class=\"glowscript\"></div>"
      ],
      "text/plain": [
       "<IPython.core.display.HTML object>"
      ]
     },
     "metadata": {},
     "output_type": "display_data"
    },
    {
     "data": {
      "application/javascript": [
       "if (typeof Jupyter !== \"undefined\") { window.__context = { glowscript_container: $(\"#glowscript\").removeAttr(\"id\")};}else{ element.textContent = ' ';}"
      ],
      "text/plain": [
       "<IPython.core.display.Javascript object>"
      ]
     },
     "metadata": {},
     "output_type": "display_data"
    }
   ],
   "source": [
    "source_radius = 1\n",
    "point_distance = 2\n",
    "draw_charged_sphere(charge=1e-9,radius=source_radius,distance=point_distance)\n"
   ]
  },
  {
   "cell_type": "code",
   "execution_count": 158,
   "metadata": {
    "collapsed": true
   },
   "outputs": [],
   "source": [
    "draw_Gaussian_surface(\"sphere\",radius = point_radius)\n"
   ]
  },
  {
   "cell_type": "code",
   "execution_count": 162,
   "metadata": {
    "collapsed": false
   },
   "outputs": [
    {
     "data": {
      "text/html": [
       "<div id=\"glowscript\" class=\"glowscript\"></div>"
      ],
      "text/plain": [
       "<IPython.core.display.HTML object>"
      ]
     },
     "metadata": {},
     "output_type": "display_data"
    },
    {
     "data": {
      "application/javascript": [
       "if (typeof Jupyter !== \"undefined\") { window.__context = { glowscript_container: $(\"#glowscript\").removeAttr(\"id\")};}else{ element.textContent = ' ';}"
      ],
      "text/plain": [
       "<IPython.core.display.Javascript object>"
      ]
     },
     "metadata": {},
     "output_type": "display_data"
    }
   ],
   "source": [
    "distance = 2\n",
    "length = 6\n",
    "radius = 1\n",
    "draw_charged_cylinder(lambda0=1e-9,radius=radius,length=length,distance = distance)\n",
    "\n"
   ]
  },
  {
   "cell_type": "code",
   "execution_count": 163,
   "metadata": {
    "collapsed": true
   },
   "outputs": [],
   "source": [
    "draw_Gaussian_surface(\"cylinder\",radius = distance,circle_centers=[[-1,0,0],[1,0,0]])\n"
   ]
  },
  {
   "cell_type": "code",
   "execution_count": 173,
   "metadata": {
    "collapsed": false
   },
   "outputs": [
    {
     "data": {
      "text/html": [
       "<div id=\"glowscript\" class=\"glowscript\"></div>"
      ],
      "text/plain": [
       "<IPython.core.display.HTML object>"
      ]
     },
     "metadata": {},
     "output_type": "display_data"
    },
    {
     "data": {
      "application/javascript": [
       "if (typeof Jupyter !== \"undefined\") { window.__context = { glowscript_container: $(\"#glowscript\").removeAttr(\"id\")};}else{ element.textContent = ' ';}"
      ],
      "text/plain": [
       "<IPython.core.display.Javascript object>"
      ]
     },
     "metadata": {},
     "output_type": "display_data"
    }
   ],
   "source": [
    "length = 6 #x\n",
    "height = 6 #y\n",
    "width = 2 #z\n",
    "distance = 1.5 #above/below the center of the slab in z\n",
    "draw_charged_slab(rho=1e-9,length=length,height=height,width=width,distance=distance)"
   ]
  },
  {
   "cell_type": "code",
   "execution_count": 174,
   "metadata": {
    "collapsed": true
   },
   "outputs": [],
   "source": [
    "draw_Gaussian_surface(\"cylinder\",radius = 1,circle_centers=[[0,0,distance],[0,0,-distance]])\n"
   ]
  }
 ],
 "metadata": {
  "kernelspec": {
   "display_name": "Python 3",
   "language": "python",
   "name": "python3"
  },
  "language_info": {
   "codemirror_mode": {
    "name": "ipython",
    "version": 3
   },
   "file_extension": ".py",
   "mimetype": "text/x-python",
   "name": "python",
   "nbconvert_exporter": "python",
   "pygments_lexer": "ipython3",
   "version": "3.4.9"
  }
 },
 "nbformat": 4,
 "nbformat_minor": 4
}
