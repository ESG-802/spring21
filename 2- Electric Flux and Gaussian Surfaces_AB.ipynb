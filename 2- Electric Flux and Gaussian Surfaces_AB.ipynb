{
 "cells": [
  {
   "cell_type": "markdown",
   "metadata": {},
   "source": [
    "Please run The following cell to start your two-hour session"
   ]
  },
  {
   "cell_type": "code",
   "execution_count": 1,
   "metadata": {},
   "outputs": [
    {
     "data": {
      "application/vnd.jupyter.widget-view+json": {
       "model_id": "924a0567291642859613f5524975a97f",
       "version_major": 2,
       "version_minor": 0
      },
      "text/plain": [
       "FloatProgress(value=0.0, max=7200.0)"
      ]
     },
     "metadata": {},
     "output_type": "display_data"
    },
    {
     "name": "stdout",
     "output_type": "stream",
     "text": [
      "Session started, will remain active for two hours as counted by the progress bar\n"
     ]
    }
   ],
   "source": [
    "from new_session import *\n",
    "start_session()"
   ]
  },
  {
   "cell_type": "markdown",
   "metadata": {},
   "source": [
    "<h1>Lab 2: Visualization of Electric Field Symmetries, Flux and Gaussian Surfaces</h1>\n",
    "\n",
    "In this lab, you will be exploring the three symmetries for which Gauss's Law can be applied to calculate the electric field: spherical, cylindrical and planar symmetries. In this exploration, you will\n",
    "\n",
    "<ol>\n",
    "    <li> Visualize the electric field produced by uniformly-charged spheres, cylinders and slabs, both inside and outside of the charged source.</li>\n",
    "    <li> Choose the appropriate shape, dimensions and location of Gaussian surface needed for each case.</li>\n",
    "</ol>\n",
    "\n",
    "We have extended the code you used and edited in Lab 1 so that it can plot the E field of symmetric continuous shapes. At the very core of the code, the calculate_E() function that you wrote is calculating the E field of small contributions along the shape and then they are added together, i.e. integrating the field over the volume of the shape.\n"
   ]
  },
  {
   "cell_type": "code",
   "execution_count": 7,
   "metadata": {},
   "outputs": [],
   "source": [
    "#To Analia and Paola, still debating whether to hide all these functions in a seprarte file and import them or just keep them.\n",
    "\n",
    "from vpython import *\n",
    "\n",
    "def calculate_E(q,r_S,r_P):\n",
    "    e0 = 8.854187817e-12  \n",
    "    k = 1.0 / (4 * pi * e0)\n",
    "    rSP = sqrt(((r_P[0]-r_S[0])**2) + ((r_P[1]-r_S[1])**2) + ((r_P[2]-r_S[2])**2))\n",
    "    E_x = k*q *( (r_P[0]-r_S[0]) / rSP**3) \n",
    "    E_y = k*q *( (r_P[1]-r_S[1]) / rSP**3) \n",
    "    E_z = k*q *( (r_P[2]-r_S[2]) / rSP**3)      \n",
    "    return([E_x,E_y,E_z])\n",
    "\n",
    "\n",
    "def draw_configuration(charges,loc,points,draw_contributions = True, mode = None):\n",
    "    \n",
    "    if mode !=None:\n",
    "        draw_contributions = False\n",
    "    for point in points:\n",
    "        Es = [calculate_E(charges[index],loc[index],point) for index in range(len(charges))]\n",
    "        E_tot = [sum(E) for E in zip(*Es)]\n",
    "        colors = [color.blue if charge<0 else color.red for charge in charges]\n",
    "        radii = [0.5e9*abs(charge) for charge in charges]\n",
    "        if mode==None:\n",
    "            for index in range(len(charges)):\n",
    "                sphere(pos=vector(loc[index][0],loc[index][1],loc[index][2]), radius=radii[index], color=colors[index])\n",
    "        Emagn = mag(vector(E_tot[0], E_tot[1],E_tot[2]))\n",
    "        scale = 1\n",
    "        if  Emagn >0:\n",
    "            if mode !=None:\n",
    "                scale = 1. / Emagn \n",
    "            E_tot = [e*scale for e in E_tot]\n",
    "            if mode !=None and charges[0]<0:\n",
    "                Earrow_tot=arrow(pos=vector(-E_tot[0]+point[0],-E_tot[1]+point[1],-E_tot[2]+point[2]), axis=vector(E_tot[0], E_tot[1],E_tot[2]), shaftwidth=0.05,color=color.green)\n",
    "            else:\n",
    "                Earrow_tot=arrow(pos=vector(point[0],point[1],point[2]), axis=vector(E_tot[0], E_tot[1],E_tot[2]), shaftwidth=0.05,color=color.green)\n",
    "        if draw_contributions:\n",
    "            for index in range(len(Es)):\n",
    "                E = [e*scale for e in Es[index]]\n",
    "                arrow(pos=vector(point[0],point[1],point[2]), axis=vector(E[0], E[1],E[2]),  shaftwidth=0.03,color=colors[index])\n",
    "\n",
    "def canvas_with_instructions():\n",
    "    scene = canvas() \n",
    "    s = \"Rotate the camera by dragging with the right mouse button,\\n\"\n",
    "    s += \"To zoom, drag with the left+right mouse buttons or use the mouse pad.\\n\"\n",
    "    s += \"Touch screen: pinch/extend to zoom, swipe or two-finger rotate.\"\n",
    "    scene.caption = s\n",
    "    return scene\n",
    "                \n",
    "def draw_charged_sphere(charge=1e-9,radius=1,distance=2):\n",
    "    scene = canvas_with_instructions() \n",
    "    col = color.blue \n",
    "    if charge>0:\n",
    "        col = color.red \n",
    "    sphere(pos=vector(0,0,0), radius=radius, color=col,opacity = 0.5)\n",
    "    if distance < radius:\n",
    "        charge = charge*(distance**3)/(radius**3)\n",
    "        \n",
    "    d = distance/(sqrt(2))\n",
    "    points = [[0,0,distance],[0,distance,0],[distance,0,0]]\n",
    "    points+= [[0,0,-distance],[0,-distance,0],[-distance,0,0]]\n",
    "    points+= [[0,d,d],[d,d,0],[d,0,d],[0,-d,-d],[-d,-d,0],[-d,0,-d]]\n",
    "    points+= [[0,-d,d],[-d,d,0],[-d,0,d],[0,d,-d],[d,-d,0],[d,0,-d]]\n",
    "    \n",
    "    draw_configuration([charge],[[0,0,0]],points,draw_contributions = False, mode = \"sphere\")\n",
    "\n",
    "def draw_charged_cylinder(lambda0=1e-9,length=10,radius=1,distance=2):\n",
    "    scene = canvas_with_instructions() \n",
    "    \n",
    "    col = color.blue \n",
    "    if lambda0>0:\n",
    "        col = color.red \n",
    "    cylinder(pos=vector(-length/2,0,0),axis=vector(length,0,0), radius=radius, color=col,opacity = 0.5)\n",
    "    if distance <radius:\n",
    "        lambda0 = lambda0*(distance**2)/(radius**2)\n",
    "    dx = length/1000\n",
    "    charges = []\n",
    "    locs = []\n",
    "    for x in arange(-length/2, length/2, dx):\n",
    "        charges.append(lambda0*dx)\n",
    "        locs.append([x,0,0])\n",
    "    d = distance/(sqrt(2))\n",
    "    points = []\n",
    "    dx = length/10\n",
    "    for x in arange(-length/2, length/2,dx):\n",
    "        points += [[x,0,distance],[x,distance,0]]\n",
    "\n",
    "        points+= [[x,0,-distance],[x,-distance,0]]\n",
    "        points+= [[x,d,d],[x,-d,-d]]\n",
    "        points+= [[x,-d,d],[x,d,-d]]\n",
    "    points+= [[-length/1.98,0,0],[0.05+length/1.98,0,0],[-length/1.6,0,0],[0.05+length/1.6,0,0]]\n",
    "    draw_configuration(charges,locs,points,draw_contributions = False, mode = \"cylinder\")\n",
    "\n",
    "def draw_charged_slab(rho=1e-9,length=10,height=10,width=1,distance=2):\n",
    "    scene = canvas_with_instructions() \n",
    "    col = color.blue \n",
    "    if rho>0:\n",
    "        col = color.red \n",
    "        \n",
    "    box(pos=vector(0,0,0),length=length,height=height,width=width, color=col,opacity = 0.5)\n",
    "    if distance <width/2:\n",
    "        rho = 2*rho*(distance)/(width)\n",
    "    dx = length/50\n",
    "    dy = height/50\n",
    "    charges = []\n",
    "    locs = []\n",
    "    for x in arange(-length/2, length/2, dx):\n",
    "        for y in arange(-height/2,height/2,dy):\n",
    "            charges.append(rho*distance*dx*dy)\n",
    "            locs.append([x,y,0])\n",
    "    d = distance/(sqrt(2))\n",
    "    points = []\n",
    "    dx = length/8\n",
    "    dy = height/8\n",
    "    for x in arange(-length/2, length/2,dx):\n",
    "        for y in arange(-height/2, height/2,dy):\n",
    "            points += [[x,y,distance],[x,y,-distance]]\n",
    "    for y in arange(-int(height/2), int(height/2)):\n",
    "        points+= [[-length/1.98,y,0],[0.05+length/1.98,y,0]]\n",
    "    draw_configuration(charges,locs,points,draw_contributions = False, mode = \"plane\")\n",
    "\n",
    "    \n",
    "def draw_Gaussian_surface(mode,radius=1,base_centers=[[0,0,0],[10,0,0]]):\n",
    "    if mode ==\"sphere\":\n",
    "        sphere(pos=vector(0,0,0),radius=radius,color=color.white,opacity = 0.2)\n",
    "    if mode ==\"cylinder\":\n",
    "        base = base_centers[0]\n",
    "        diff = [base_centers[1][i]-base[i] for i in range(3)]\n",
    "        cylinder(pos=vector(base[0],base[1],base[2]),axis=vector(diff[0],diff[1],diff[2]), radius=radius, color=color.white,opacity = 0.2)\n"
   ]
  },
  {
   "cell_type": "markdown",
   "metadata": {},
   "source": [
    "<h2>Task 1a: Visualize the Electric Field of a Uniformly-Charged Insulating Sphere</h2>\n",
    "\n",
    "Let's first explore how the electric field of a uniformly charged insulating sphere looks like in 3D. \n",
    "\n",
    "Use the cell below to run the visualization using the function <b>draw_charged_sphere( ).</b>  This function draws the charged sphere with center at the origin of a coordinate system. (This coordinate system is not shown in the simulation). It also draws the E-field vectors at a \"few\" points in space located at a distance <b>distance_E</b> from the center of the charged sphere. This distance is one of the three arguments that you need for the function <b>draw_charged_sphere( ).</b> The three arguments that this function takes are:\n",
    "\n",
    "<ol>\n",
    "    <li><b>source_radius:</b> radius of the charged sphere (in $m$).</li>\n",
    "    <li><b>charge:</b> total charge of the sphere (in $C$).</li>\n",
    "    <li><b>distance_E:</b> distance between the center of the sphere and the point at which the E field is calculated and visualized (in $m$).</li>\n",
    "</ol>\n",
    "\n",
    "Note that if the charge is positive the sphere is red, and if the charge is negative the sphere is blue.\n",
    "\n",
    "<ul>\n",
    "    <li><span style=\"color:blue\">Experiment</span> with all arguments to generate E-field vectors produced by positive and negative spheres. You can change the argument <b>distance_E</b> to see how does the E-field looks inside and outside the sphere.</li>\n",
    "        <li> Keep the charge in the $nC$ order of magnitude (~1e-9 $C$)].</li>\n",
    "    <li><span style=\"color:blue\">Comment</span> on the symmetry of the arrows you obtain.</li>\n",
    "</ul>\n"
   ]
  },
  {
   "cell_type": "code",
   "execution_count": 11,
   "metadata": {},
   "outputs": [
    {
     "data": {
      "text/html": [
       "<div id=\"glowscript\" class=\"glowscript\"></div>"
      ],
      "text/plain": [
       "<IPython.core.display.HTML object>"
      ]
     },
     "metadata": {},
     "output_type": "display_data"
    },
    {
     "data": {
      "application/javascript": [
       "if (typeof Jupyter !== \"undefined\") { window.__context = { glowscript_container: $(\"#glowscript\").removeAttr(\"id\")};}else{ element.textContent = ' ';}"
      ],
      "text/plain": [
       "<IPython.core.display.Javascript object>"
      ]
     },
     "metadata": {},
     "output_type": "display_data"
    }
   ],
   "source": [
    "# Task 1a\n",
    "source_radius = 3\n",
    "distance_E = 1\n",
    "charge = 1e-9\n",
    "draw_charged_sphere(charge=charge,radius=source_radius,distance=distance_E)\n"
   ]
  },
  {
   "cell_type": "code",
   "execution_count": 12,
   "metadata": {},
   "outputs": [],
   "source": [
    "#  Read Task 1b before attempting this part \n",
    "#draw_Gaussian_surface(\"sphere\",radius = FILL IN) \n",
    "#draw_Gaussian_surface(\"cylinder\",radius = FILL IN,base_centers=FILL IN)\n",
    "\n",
    "#   Solution:\n",
    "draw_Gaussian_surface(\"sphere\",radius = distance_E)\n"
   ]
  },
  {
   "cell_type": "markdown",
   "metadata": {},
   "source": [
    "<h2>Task 1b: Choose the Shape, Dimensions and Location of the Gaussian Surface for a Spherical Source</h2>\n",
    "\n",
    "It's time to draw the appropriate Gaussian surface to the above visualization.\n",
    "\n",
    "You can use the function <b>draw_Gaussian_surface( )</b>. This function adds a Gaussian surface to the above scene, it can be either a sphere or a cylinder. This function takes the following information:\n",
    "<ol>\n",
    "    <li>The shape of the Gaussian surface: \"sphere\" or \"cylinder\". </li>\n",
    "    <li>The dimensions of the Gaussian surface: \n",
    "    <ul>\n",
    "    <li>For a sphere: radius = radius of the sphere (centered at the origin for simplicity).</li>\n",
    "    <li>For a cylinder: radius = radius of the two circular bases of the cylinder and base_centers = [[$x_1, y_1, z_1$],[$x_2, y_2, z_2$]] is a list of the coordinates of the centers of the two circular bases. </li>\n",
    "    </ul>\n",
    "    </li>\n",
    "</ol>\n",
    "\n",
    "The resulting Gaussian surface has its center at the origin of the coordinates systemBased on your observations about the symmetries of the field in task 1a, you should choose the appropriate Gaussian surface to match the symmetry of the field. \n",
    "\n",
    "<b>Uncomment one of the choices in the above cell by removing the \"#' symbol and fill it with the correct dimensions to add the correct Gaussian surface. You should use the variables defined above (e.g. source_radius, point_distance) to fill in the missing arguments.</b> You can also copy the correct line to the cell from task 1a and run them together.\n",
    "\n",
    "Proceed to documenting your work as follows:\n",
    "<ul>\n",
    "<li>Draw the Gaussian surfaces for <span style=\"color:blue\">all four cases:</span> +/- charged sphere, and Guassian surface inside and outside the charged sphere.</li>\n",
    "<li><span style=\"color:blue\">Take screenshots</span> of 2 of your setups that include the Gaussian surfaces using a clear camera angle.</li>\n",
    "<li><span style=\"color:blue\">Describe</span>, using yor own words, how the integral for electirc flux through the Gaussian surface $\\Phi = \\oint \\vec{E}.\\vec{dA}$ simplifies because of symmetry and the correct choice of the Gaussian surface. </li>\n",
    "</ul>"
   ]
  },
  {
   "cell_type": "markdown",
   "metadata": {},
   "source": [
    "<h2>Task 2a: Visualize the Electric Field of a Uniformly-Charged Insulating Cylinder</h2>\n",
    "\n",
    "In this task, you will be repeating the same steps done in Task 1 but for a uniformly charged cylinder of finite length.  You will use the function <b>draw_charged_cylinder( )</b> that draws the charged cylinder with its axis coinciding  with the x-axis and its center coinciding with the origin of the $(x,y,z)$ coordinate system. (The coordinate system is not shown in the visualization). This function also draws the E-field produced by the cylinder at a few points in space that are at a perpendicular distance, <b>distance_E</b>, from the axis of the cylinder.\n",
    "\n",
    "The function <b>draw_charged_cylinder( )</b> takes four arguments:\n",
    "\n",
    "<ol>\n",
    "    <li><b>lambda0:</b> charge per unit length of the cylinder (in $C/m$).</li>\n",
    "    <li><b>radius:</b> radius of the circular bases (in $m$).</li>\n",
    "    <li><b>length:</b> total length of the cylinder (in $m$).</li>\n",
    "    <li><b>distance_E:</b> perpendicular distance between the cylinder axis and the point at which the E field is calculated and visualized (in $m$). (The E field is not calculated along the axis of the cylinder).</li>\n",
    "</ol>\n",
    "\n",
    "The cylinder is red if it is positively charged and blue if negatively charged.\n",
    "\n",
    "<ul>\n",
    "    <li><span style=\"color:blue\">Experiment</span> with all the arguments to generate the E field produced by positive and negative cylinders. Draw the E-field vectors at points inside and outside of the cylinders [Please keep the charge density in the $nC/m$ order of magnitude (~1e-9 $C/m$)].</li>\n",
    "    <li><span style=\"color:blue\">Comment</span> on the symmetry of the arrows you obtain at a particular distance. What happens at the edges of the cylinder? What happens to the E-field vectors at the points close to the surface of the cylinder vs. the E-field vectors at points far away from it?</li>\n",
    "    <li>Based on your observations, <span style=\"color:blue\">Explain</span> the reasons why approximating the cylinder as \"infinite\" is necessary for applying Gauss's Law, and in what cases this approximation can still be a good one. </li>\n",
    "</ul>"
   ]
  },
  {
   "cell_type": "code",
   "execution_count": 22,
   "metadata": {},
   "outputs": [
    {
     "data": {
      "text/html": [
       "<div id=\"glowscript\" class=\"glowscript\"></div>"
      ],
      "text/plain": [
       "<IPython.core.display.HTML object>"
      ]
     },
     "metadata": {},
     "output_type": "display_data"
    },
    {
     "data": {
      "application/javascript": [
       "if (typeof Jupyter !== \"undefined\") { window.__context = { glowscript_container: $(\"#glowscript\").removeAttr(\"id\")};}else{ element.textContent = ' ';}"
      ],
      "text/plain": [
       "<IPython.core.display.Javascript object>"
      ]
     },
     "metadata": {},
     "output_type": "display_data"
    }
   ],
   "source": [
    "#   Task 2a  \n",
    "distance_E = 4\n",
    "length = 6\n",
    "radius = .5\n",
    "density = 1e-9\n",
    "draw_charged_cylinder(lambda0=density,radius=radius,length=length,distance = distance_E)\n",
    "\n"
   ]
  },
  {
   "cell_type": "code",
   "execution_count": null,
   "metadata": {},
   "outputs": [],
   "source": [
    "#Read Task 2b before attempting this part\n",
    "#draw_Gaussian_surface(\"sphere\",radius = FILL IN) \n",
    "#draw_Gaussian_surface(\"cylinder\",radius = FILL IN,base_centers=FILL IN)\n",
    "\n",
    "#Solution:\n",
    "draw_Gaussian_surface(\"cylinder\",radius = distance_E,base_centers=[[-length/4,0,0],[length/4,0,0]])\n"
   ]
  },
  {
   "cell_type": "markdown",
   "metadata": {},
   "source": [
    "<h2>Task 2b: Choose the Shape, Dimensions and Location of the Gaussian Surface for a Cylinderical Source</h2>\n",
    "\n",
    "Use again the function <b>draw_Gaussian_surface( ) </b> to draw the correct Gaussian surface for the charged cylinder. Fill in the needed values:\n",
    "<ol>\n",
    "    <li>The shape: \"sphere\" or \"cylinder\".</li>\n",
    "    <li>The dimensions of the Gaussian surface: \n",
    "    <ul>\n",
    "    <li>For a sphere: radius = radius of the sphere (centered at the origin for simplicity).</li>\n",
    "    <li>For a cylinder: radius = radius of the two circular bases of the cylinder and base_centers = [[$x_1, y_1, z_1$],[$x_2, y_2, z_2$]] is a list of the coordinates of the centers of the two circular bases. </li>\n",
    "    </ul>\n",
    "    </li>\n",
    "</ol>\n",
    "\n",
    "<b>Uncomment one of the choices above by removing the \"#' symbol and fill it with the correct dimensions to add the correct Gaussian surface. You should use some of the variables defined above (e.g. distance, length, radius,..) to fill in the missing arguments.</b> \n",
    "<ul>\n",
    "<li>Draw the Gaussian surfaces for <span style=\"color:blue\">all four cases:</span> cylinder positively and negatively charged, and Gaussian surface inside/outside the charged cylinder.</li><li><span style=\"color:blue\">Take screenshots</span> of 2 of your setups that include the Gaussian surfaces using a clear camera angle.</li>\n",
    "<li><span style=\"color:blue\">Describe</span>, using yor own words, how the integral for electirc flux through the Gaussian surface $\\Phi = \\oint \\vec{E}.\\vec{dA}$ simplifies because of symmetry and the correct choice of the Gaussian surface. </li>\n",
    "</ul>\n",
    "\n"
   ]
  },
  {
   "cell_type": "markdown",
   "metadata": {},
   "source": [
    "<h2>Task 3a: Visualize the Electric Field of a Uniformly-Charged Insulating Slab</h2>\n",
    "\n",
    "Finally, our third symmetry is the planar one. \n",
    "\n",
    "Use the function <b>draw_charged_slab( ) </b> to draw a finite slab that is parallel to the x-y plane and its center coincides with the origin of the coordinate system. (The coordinate system is not shown in the visualization.) This function also draws the E-field vectors at points at a perpendicular distance, <b>distance_E</b>, with respect to the x-y plane. \n",
    "\n",
    "This function takes five arguments:\n",
    "\n",
    "<ol>\n",
    "    <li><b>rho: </b> charge per unit volume of the slab (in $C/m^3$).</li>\n",
    "    <li><b>length: </b>slab length along x  (in $m$).</li>\n",
    "    <li><b>height: </b>slab height along y  (in $m$).</li>\n",
    "    <li><b>width: </b>slab width along z [should be smaller than length $\\&$ height] (in $m$).</li>\n",
    "    <li><b>distance_E: </b>distance above/below the x-y plane (along z) at which the E field is calculated and visualized (in $m$).</li>\n",
    "</ol>\n",
    "\n",
    "\n",
    "<ul>\n",
    "    <li><span style=\"color:blue\">Experiment</span> with all arguments to generate the E field for positive and negative slabs, both inside and outside of the slabs [Please keep the charge density in the $nC/m^3$ order of magnitude (~1e-9 $C/m^3$)].</li>\n",
    "    <li><span style=\"color:blue\">Comment</span> on the symmetry of the arrows you obtain at a particular distance. What happens at the edges of the slab? What happens if the points are very close to the surface of the slab vs. far away from it?</li>\n",
    "    \n",
    "</ul>\n"
   ]
  },
  {
   "cell_type": "code",
   "execution_count": 26,
   "metadata": {},
   "outputs": [
    {
     "data": {
      "text/html": [
       "<div id=\"glowscript\" class=\"glowscript\"></div>"
      ],
      "text/plain": [
       "<IPython.core.display.HTML object>"
      ]
     },
     "metadata": {},
     "output_type": "display_data"
    },
    {
     "data": {
      "application/javascript": [
       "if (typeof Jupyter !== \"undefined\") { window.__context = { glowscript_container: $(\"#glowscript\").removeAttr(\"id\")};}else{ element.textContent = ' ';}"
      ],
      "text/plain": [
       "<IPython.core.display.Javascript object>"
      ]
     },
     "metadata": {},
     "output_type": "display_data"
    }
   ],
   "source": [
    "#  Task 3a\n",
    "length = 10 #x\n",
    "height = 10 #y\n",
    "width = 2 #full width/thickness\n",
    "distance_E = 6 #above/below the center of the slab in z\n",
    "density = 1e-9\n",
    "draw_charged_slab(rho=density,length=length,height=height,width=width,distance=distance_E)"
   ]
  },
  {
   "cell_type": "code",
   "execution_count": 25,
   "metadata": {},
   "outputs": [],
   "source": [
    "#Read Task 3b before attempting this part\n",
    "#draw_Gaussian_surface(\"sphere\",radius = FILL IN) \n",
    "#draw_Gaussian_surface(\"cylinder\",radius = FILL IN,base_centers=FILL IN)\n",
    "\n",
    "#Solution:\n",
    "draw_Gaussian_surface(\"cylinder\",radius = 1,base_centers=[[0,0,distance],[0,0,-distance]])\n"
   ]
  },
  {
   "cell_type": "markdown",
   "metadata": {},
   "source": [
    "<h2>Task 3b: Choose the Shape, Dimensions and Location of the Gaussian Surface for a Charged Slab</h2>\n",
    "\n",
    "Now, choose the correct Gaussian surface and fill in the needed values:\n",
    "<ol>\n",
    "    <li>The shape: \"sphere\" or \"cylinder\".</li>\n",
    "    <li>The dimensions of the Gaussian surface: \n",
    "    <ul>\n",
    "    <li>For a sphere: radius = radius of the sphere (centered at the origin for simplicity).</li>\n",
    "    <li>For a cylinder: radius = radius of the two circular bases of the cylinder and base_centers = [[$x_1, y_1, z_1$],[$x_2, y_2, z_2$]] is a list of the coordinates of the centers of the two circular bases. </li>\n",
    "    </ul>\n",
    "    </li>\n",
    "</ol>\n",
    "\n",
    "<b>Uncomment one of the choices above by removing the \"#' symbol and fill it with the correct dimensions to add the correct Gaussian surface. You should use some of the variables defined above (e.g. distance, length, radius,..) to fill in the missing arguments.</b> \n",
    "<ul>\n",
    "<li>Draw the Gaussian surfaces for <span style=\"color:blue\">all four cases:</span>positively and negatively charged slab, at points inside and outside the slab.</li><li><span style=\"color:blue\">Take screenshots</span> of 2 of your setups that include the Gaussian surface using a clear camera angle.</li>\n",
    "<li><span style=\"color:blue\">Describe</span>, using your own words, how the integral for electirc flux through the Gaussian surface $\\Phi = \\oint \\vec{E}.\\vec{dA}$ simplifies because of symmetry and the correct choice of the Gaussian surface.</li>\n",
    "</ul>\n",
    "\n"
   ]
  }
 ],
 "metadata": {
  "kernelspec": {
   "display_name": "Python 3",
   "language": "python",
   "name": "python3"
  },
  "language_info": {
   "codemirror_mode": {
    "name": "ipython",
    "version": 3
   },
   "file_extension": ".py",
   "mimetype": "text/x-python",
   "name": "python",
   "nbconvert_exporter": "python",
   "pygments_lexer": "ipython3",
   "version": "3.7.8"
  }
 },
 "nbformat": 4,
 "nbformat_minor": 4
}
