{
 "cells": [
  {
   "cell_type": "code",
   "execution_count": null,
   "metadata": {
    "collapsed": true
   },
   "outputs": [],
   "source": [
    "from new_session import *\n",
    "start_session()"
   ]
  },
  {
   "cell_type": "markdown",
   "metadata": {},
   "source": [
    "<h1>Preliminary Python warmup - (Skip it if you are familiar with Python)</h1>\n",
    "\n",
    "\n",
    "<h2> 1.  Basic operations:</h2>\n",
    "\n",
    "\n",
    "\n",
    "<h3> a) Addition, substraction, multiplication abd division</h3> \n",
    "\n",
    "The grey box preceeded by <font color=\"light blue\"><b>In [ ] :</b></font>is called a cell. \n",
    "\n",
    "Type in the cell a statement, example: 2+3, \n",
    "\n",
    "Click <font color=\"blue\"><b>Run</b></font> in the top menu. \n",
    "\n",
    "The answer or output is shown below the cell, by <b><font color=\"red\">Out[ ] = </font></b>.\n"
   ]
  },
  {
   "cell_type": "code",
   "execution_count": null,
   "metadata": {
    "collapsed": true
   },
   "outputs": [],
   "source": [
    "2 + 3"
   ]
  },
  {
   "cell_type": "markdown",
   "metadata": {},
   "source": [
    "You can delete 2+3 and enter other statements. Example:  5-7, 6/2, 3*4. Always click Run to see the output\n",
    "\n",
    "\n",
    "<h3> b) Exponentiation:</h3>\n",
    "\n",
    "This one is tricky!!  For $2^3$ type 2**3 . Try it!\n",
    "\n"
   ]
  },
  {
   "cell_type": "code",
   "execution_count": null,
   "metadata": {
    "collapsed": true
   },
   "outputs": [],
   "source": []
  },
  {
   "cell_type": "markdown",
   "metadata": {},
   "source": [
    "<h2> 2. Storing information in variables</h2>\n",
    "\n",
    "In Python, variables are created when you assign a value to it:\n",
    "<ul>\n",
    "\n",
    "<li>Example 1: The statement <b>a = 5.2</b>  assigns the number <b>5.2</b> to the variable <b>a</b>.</li>\n",
    "\n",
    "<li>Example 2: The statement <b>b = \"Hello ESG\"</b> assigns the string <b>Hello ESG</b> to the varible <b>b</b>. </li>\n",
    "</ul>\n",
    "\n",
    "<b>Note:</b> the quotation marks are used in text (or strings).\n",
    "\n",
    "\n",
    "<h2> 3. Print statement - SUPER USEFUL!! </h2>\n",
    "\n",
    "The <b>print( ) function </b> prints to the screen anything you put between the parenthesis. Let's try this function. Type in the cell below:\n",
    "\n",
    "<ul>   \n",
    "    <li><b>a = 5.2</b></li>\n",
    "    <li><b>b = \"Hello ESG\"</b></li>\n",
    "    <li>Click <b>Run</b></li>    \n",
    "</ul>\n",
    "\n",
    "Nothing happens! \n",
    "\n",
    "If you want to know what is stored in the variables <b>a</b> and <b>b</b> just use the print( ) function typing in the cell the following sttements:\n",
    "\n",
    "<ul> \n",
    "    <li><b>print(a)</b></li>\n",
    "    <li><b>print(b)</b></li>\n",
    "    <li>Click <b>Run</b></li>\n",
    "</ul>\n",
    "    \n",
    "\n",
    "You can also be more explicit by adding some text to describe what are you printing. <b> Note:</b> you must put the text between quotation marks as follows:\n",
    "\n",
    "<ul> \n",
    "    <li><b>print( \"this is what I stored in a:\", a )</b></li>\n",
    "</ul>\n",
    "\n",
    "Also, note that we separate the two arguments inside the parenthesis by a comma.\n",
    "\n",
    "\n",
    "\n",
    "\n"
   ]
  },
  {
   "cell_type": "code",
   "execution_count": null,
   "metadata": {
    "collapsed": true
   },
   "outputs": [],
   "source": []
  },
  {
   "cell_type": "markdown",
   "metadata": {},
   "source": [
    "<h3> 4. Storing information in a LIST.</h3>\n",
    "\n",
    "A List is used to store multiple items in a single variable. It is defined by listing the items comma separated between square brackets\n",
    "\n",
    "Example: Store the numbers 2, -3, and 8 in the list call MyList\n",
    " \n",
    "<ul>\n",
    "    <li><b>MyList = [ 2, -3, 8]</b></li>\n",
    "</ul>\n",
    "\n",
    "You can print to the screen all the list by typing:\n",
    "<ul>\n",
    "    <li><b>print( MyList )</b></li>\n",
    "</ul>\n",
    "\n",
    "You can also print the elements of the list. In Python, the index of a list starts at 0. In this example, MyList has a length of 3 so the index tarts at 0 and ends at 2. Check it by typing:\n",
    "\n",
    "<ul>\n",
    "    <li>print(\"First element of MyList is:\" , MyList[ 0 ] )</li>\n",
    "    <li>print(\"Second element of MyList is:\" , MyList[ 1 ] )</li>\n",
    "    <li>print(\"Third elemnt of MyList is:\" , MyList[ 2 ] )</li>\n",
    "    <li>Click <b>Run</b></li>\n",
    "</ul>\n",
    "\n"
   ]
  },
  {
   "cell_type": "code",
   "execution_count": null,
   "metadata": {
    "collapsed": true
   },
   "outputs": [],
   "source": []
  },
  {
   "cell_type": "markdown",
   "metadata": {},
   "source": [
    "<h3> 5. Adding explanatory text to your code </h3>\n",
    "\n",
    "Anything preceeded by the hash symbol # is a \"comment\", only written for explaining what the code does but not part of the actual code. See an example below:\n"
   ]
  },
  {
   "cell_type": "code",
   "execution_count": null,
   "metadata": {
    "collapsed": true
   },
   "outputs": [],
   "source": [
    "NewList = [1,2,3,4]  # Here is my new list\n",
    "\n",
    "#I will print the 3rd elemenet of the list aand I will NOT print the 1st element\n",
    "\n",
    "print(\"The 3rd element\", NewList[2])\n",
    "#print(\"The 1st element\", NewList[0]))\n",
    "print(\"Note that nothing behnd the # is executed\")\n",
    "\n",
    "# Do not forget to Click Run\n"
   ]
  },
  {
   "cell_type": "markdown",
   "metadata": {},
   "source": [
    "<h3>6. Functions in Python  </h3>\n",
    "\n",
    "Python comes with a large library of functions, print( ) is one of them. You can also write your own function! A function is a generic piece of code that can be used repeatedly, takes a number of inputs, processes them and returns an output. Here is an example of a function, the input is an number and the output is the square of the number. We will call this function square( ). Here is the syntax:\n",
    "\n",
    "def square(x):\n",
    "\n",
    "   return x**2\n",
    "\n",
    "To use the function you need to call it. One example on how to make the square function work is shown in the cell below"
   ]
  },
  {
   "cell_type": "code",
   "execution_count": null,
   "metadata": {
    "collapsed": true
   },
   "outputs": [],
   "source": [
    "def square(x):\n",
    "   return x**2\n",
    "\n",
    "z = square(6)\n",
    "print(z)"
   ]
  }
 ],
 "metadata": {
  "kernelspec": {
   "display_name": "Python 3.7",
   "language": "python",
   "name": "python3.7"
  },
  "language_info": {
   "codemirror_mode": {
    "name": "ipython",
    "version": 3
   },
   "file_extension": ".py",
   "mimetype": "text/x-python",
   "name": "python",
   "nbconvert_exporter": "python",
   "pygments_lexer": "ipython3",
   "version": "3.7.0"
  }
 },
 "nbformat": 4,
 "nbformat_minor": 0
}
