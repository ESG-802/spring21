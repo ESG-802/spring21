{
 "cells": [
  {
   "cell_type": "code",
   "execution_count": 6,
   "metadata": {
    "collapsed": false
   },
   "outputs": [
    {
     "name": "stderr",
     "output_type": "stream",
     "text": [
      "Widget Javascript not detected.  It may not be installed properly. Did you enable the widgetsnbextension? If not, then run \"jupyter nbextension enable --py --sys-prefix widgetsnbextension\"\n",
      "Widget Javascript not detected.  It may not be installed properly. Did you enable the widgetsnbextension? If not, then run \"jupyter nbextension enable --py --sys-prefix widgetsnbextension\"\n"
     ]
    }
   ],
   "source": [
    "import threading\n",
    "from IPython.display import display\n",
    "import ipywidgets as widgets\n",
    "import time\n",
    "from zmq.eventloop.ioloop import IOLoop\n",
    "\n",
    "progress = widgets.FloatProgress(value=0, min=0, max=10)\n",
    "display(progress)\n",
    "\n",
    "def run(progress, ioloop):\n",
    "    def update_progress(i, progress=progress):\n",
    "        progress.value = i\n",
    "\n",
    "    for i in range(10):\n",
    "        time.sleep(1)\n",
    "        ioloop.add_callback(update_progress, i)\n",
    "\n",
    "def run_progress(*args, **kwargs):\n",
    "    thread = threading.Thread(target=run, args=(progress, IOLoop.instance()))\n",
    "    thread.start()\n",
    "\n",
    "button = widgets.Button(description=\"Start\")\n",
    "button.on_click(run_progress)\n",
    "display(button)"
   ]
  },
  {
   "cell_type": "code",
   "execution_count": null,
   "metadata": {
    "collapsed": false
   },
   "outputs": [],
   "source": []
  }
 ],
 "metadata": {
  "kernelspec": {
   "display_name": "Python 3.7",
   "language": "python",
   "name": "python3.7"
  },
  "language_info": {
   "codemirror_mode": {
    "name": "ipython",
    "version": 3
   },
   "file_extension": ".py",
   "mimetype": "text/x-python",
   "name": "python",
   "nbconvert_exporter": "python",
   "pygments_lexer": "ipython3",
   "version": "3.7.0"
  }
 },
 "nbformat": 4,
 "nbformat_minor": 0
}
