{
 "cells": [
  {
   "cell_type": "markdown",
   "metadata": {},
   "source": [
    "<h2>Visualization of Electric Fields</h2>\n",
    "\n",
    "In this exercise, you will use the vpython pacakge to visualize the superposition of electric fields produced by point charges. Most of the code is already written for you, including the full code needed to generate the visualization. The code serves as a general tool to draw the contributions of E field from different point charges, and their resultant at different points in space. You have two main tasks:\n",
    "\n",
    "1- Complete the \"Calculate_E()\" function with simple lines of code that calculate the x, y & z electric field components given the charge of the point charge, its location and the location of the point in space to calculate E at.\n",
    "\n",
    "2- Utilize the code to visualize the electric field of a) four point charges at the corners of a square b) a dipole.\n",
    "\n",
    "<h2>Electric field of a point charge</h2>\n",
    "\n",
    "Remember that the electric field produced by a point charge at a point P is $$ \\vec{E} =\\frac{kq}{r^2} \\hat{r}$$ where $k=\\frac{1}{4\\pi\\epsilon_0}$, q is the value of charge in Coulombs and r is the distance between the point charge and the point P. $\\hat{r}$ is a unit vector pointing from the point charge to P, which can be defined as $\\hat{r}=\\frac{\\vec{r}}{r}$. \n",
    "\n",
    "To find the x,y and z components of the E field, we need to express the vector $\\vec{r}$ (or $\\hat{r}$) in cartesian coordinates. If the coordinates of the source point charge are $(x_s, y_s, z_s)$ and the coordinates of the point P are $(x_P, y_P, z_P)$, then the position vector $\\vec{r}$ can be written as \n",
    "\n",
    "$$\\vec{r} = (x_P-x_s) \\hat{i} + (y_P-y_s) \\hat{j} + (z_P-z_s) \\hat{k} $$.\n",
    "\n",
    "This expression will help you when you fill in the function \"Calculate_E()\" in the code.\n",
    "\n",
    "Let's use that to complete the code below. If your calcualtion of the E field is correct, the code will draw the first example of four point charges at the corners of a square and their contributions and resultant at the center of the square.\n",
    "<h2>Example 1: Four point charges at the corners of a square </h2>\n",
    "<img src=\"images/square.png\" width=200 />\n",
    "\n",
    "Analyze the configuration in the picture and determine the direction of the net E field at the center of square, point P without calculations. \n",
    "\n",
    "For the simulation purposes, we will use the values $Q = {10}^{-10} C$ and length of square $L= 2m$.\n"
   ]
  },
  {
   "cell_type": "code",
   "execution_count": null,
   "metadata": {
    "collapsed": false
   },
   "outputs": [],
   "source": [
    "#Here we're importing the vpython package used to draw the charges and field arrows\n",
    "from vpython import *\n",
    "\n",
    "#Defining the constants epsilon_0 and k\n",
    "E0 = 8.854187817e-12\n",
    "k = 1.0 / (4 * pi * E0)\n",
    "\n",
    "#The code below will calculate and draw E fields of any charge configuration at any specified list of points in space. \n",
    "#To use it, we only need to supply it with 1) the value of charges 2) the location of charges 3) the locations to calculate E at\n",
    "\n",
    "### Example: The four charges at the corners of a square specs ###\n",
    "\n",
    "#1) Define the values of the charges in a list\n",
    "charges = [-2e-10,2e-10,-1e-10,1e-10]\n",
    "#2) Define the [x,y,z] coordinates of each charge\n",
    "locations = [[1,1,0],[-1,1,0],[-1,-1,0],[1,-1,0]]\n",
    "#3) Define the list of points to calculate/draw the field at (in this example, we're only interested in E at the origin)\n",
    "points = [[0,0,0]]\n",
    "\n",
    "\n",
    "#Here we will complete a general function that calculates the E field of a point charge at some point in space\n",
    "def calculate_E(q,q_loc,point_loc):\n",
    "    #The function takes the following general inputs:\n",
    "    #q the value of the point charge, q_loc the x-y-z coordinates of the charge & point x-y-z coordinates of the point such that\n",
    "    #q_loc[0] = the x coordinate of the charge, q_loc[1] = the y coordinate of the charge and \n",
    "    #q_loc[2] = the z coordinate of the charge. Same thing for the point coordinates being (point[0],point[1],point[2])\n",
    "    \n",
    "    #The function returns [E_x,E_y,E_z], the x,y & z components of the E field at the point P\n",
    "    \n",
    "    #First: Calculate the distance r between the charge and the point:\n",
    "    #r = FILL IN \n",
    "    r = sqrt(((q_loc[0]-point_loc[0])**2) + ((q_loc[1]-point_loc[1])**2) + ((q_loc[2]-point_loc[2])**2))\n",
    "    \n",
    "    E = k * (q / (r**2))\n",
    "    \n",
    "    #Second: Calculate the components of E using E, r and the coordinates of q and P\n",
    "    #E_x = FILL IN\n",
    "    #E_y = FILL IN\n",
    "    #E_z = FILL IN\n",
    "    E_x = E * ((point_loc[0]-q_loc[0]) / r) \n",
    "    E_y = E * ((point_loc[1]-q_loc[1]) / r) \n",
    "    E_z = E * ((point_loc[2]-q_loc[2]) / r) \n",
    "    return([E_x,E_y,E_z])\n",
    "\n",
    "\n",
    "# This is the needed function to draw the configuration and the fields. You don't need to read through this function\n",
    "# Just treat it as a black box that draws the configuration (unless you're interested in knowing how it works :) )\n",
    "def draw_configuration(charges,loc,points,draw_contributions = True):\n",
    "    scene = canvas() \n",
    "    for point in points:\n",
    "        Es = [calculate_E(charges[index],loc[index],point) for index in range(len(charges))]\n",
    "        E_tot = [sum(E) for E in zip(*Es)]\n",
    "        colors = [color.blue if charge<0 else color.red for charge in charges]\n",
    "        radii = [0.5e9*abs(charge) for charge in charges]\n",
    "        for index in range(len(charges)):\n",
    "            sphere(pos=vector(loc[index][0],loc[index][1],loc[index][2]), radius=radii[index], color=colors[index])\n",
    "        Earrow_tot=arrow(pos=vector(point[0],point[1],point[2]), axis=vector(E_tot[0], E_tot[1],E_tot[2]), shaftwidth=0.05,color=color.green)\n",
    "        if draw_contributions:\n",
    "            for index in range(len(Es)):\n",
    "                E = Es[index]\n",
    "                arrow(pos=vector(point[0],point[1],point[2]), axis=vector(E[0], E[1],E[2]),  shaftwidth=0.03,color=colors[index])\n",
    "\n",
    "\n",
    "# To run the code, just supply the draw_configuration function with the charges, their locations and the points to calc E\n",
    "draw_configuration(charges,locations,points)\n"
   ]
  },
  {
   "cell_type": "markdown",
   "metadata": {},
   "source": [
    "<h2>Example 2: The electric field of a dipole along the axis of symmetry </h2>\n",
    "<img src=\"images/dipole.png\" height=20 />\n",
    "\n",
    "In this example, we will use the program we built to draw the E field of a dipole that lies along the y-axis at different points along the x-axis. \n",
    "\n",
    "For the simulation purposes, we will use the values $Q = {10}^{-10} C$ and distance between charges $d= 3m$. You only need to modify the lists below that define the charges values and locations and the points to draw the field at. Draw the field at multiple points along the x-axis within the range $x \\in$ [-5,5].\n"
   ]
  },
  {
   "cell_type": "code",
   "execution_count": null,
   "metadata": {
    "collapsed": false
   },
   "outputs": [],
   "source": [
    "#Students to fill in these values\n",
    "charges = [-1e-10,1e-10]\n",
    "locations = [[0,1.5,0],[0,-1.5,0]]\n",
    "points = [[0,0,0],[0.5,0,0],[-0.5,0,0],[-1,0,0],[1,0,0],[-2,0,0],[2,0,0],[-1.5,0,0],[1.5,0,0]]\n",
    "\n",
    "draw_configuration(charges,locations,points)"
   ]
  },
  {
   "cell_type": "code",
   "execution_count": null,
   "metadata": {
    "collapsed": true
   },
   "outputs": [],
   "source": []
  }
 ],
 "metadata": {
  "kernelspec": {
   "display_name": "Python 3.4",
   "language": "python",
   "name": "python3.4"
  },
  "language_info": {
   "codemirror_mode": {
    "name": "ipython",
    "version": 3
   },
   "file_extension": ".py",
   "mimetype": "text/x-python",
   "name": "python",
   "nbconvert_exporter": "python",
   "pygments_lexer": "ipython3",
   "version": "3.4.9"
  }
 },
 "nbformat": 4,
 "nbformat_minor": 1
}
