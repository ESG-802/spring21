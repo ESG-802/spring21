{
 "cells": [
  {
   "cell_type": "markdown",
   "metadata": {},
   "source": [
    "<h2>Visualization of Electric Fields</h2>\n",
    "\n",
    "In this lab, you will use the vpython pacakge to visualize the superposition of electric fields created by point charges. We provide you with a program that's mostly ready to use. The program serves as a general tool to visualize the contributions and net electric field created by any collection of point charges at different points in space.\n",
    "\n",
    "To use the program for any charge configuration, you only need to specify the charges, where they are located and the points to draw E field at. An example is provided below:\n",
    "```python\n",
    "charges = [-2e-10,2e-10,-1e-10,1e-10] #Define a list of the values of charges in C\n",
    "locations = [[1,1,0],[-1,1,0],[-1,-1,0],[1,-1,0]] #Define a list of the coordinates of charges in m\n",
    "points = [[0,0,0]] #Define a list of coordinates (in m) to calculate E at\n",
    "draw_configuration(charges,locations,points) #Call the program\n",
    "#The above values describe the example of calculating E at the center of a square created by 4 point charges at the \n",
    "#corners of it\n",
    "```\n",
    "You have two main tasks:\n",
    "\n",
    "1- The program uses a function\\subroutine* called \"Calculate_E()\".This function calculates the x, y & z electric field components given the value and location of one point charge and the location of the point to calculate E at. <b>The function \"Calculate_E()\" is missing a few lines of code that you will need to fill in.</b>\n",
    "\n",
    "2- Utilize the code to visualize the electric field of <b>a) four point charges located at the corners of a square</b> [needed configuration given in the above example] <b>b) a dipole [you will need to provide a new configuration].</b>\n",
    "\n",
    "$*$ <i>A function: a generic piece of code that can be used repeatedly, takes a number of inputs, processes them and returns an output</i> \n",
    "\n",
    "<h2>Task 1: Calculate the electric field of a point charge</h2>\n",
    "\n",
    "Remember that the electric field produced by a point charge at a point P is $$ \\vec{E} =\\frac{kq}{r^2} \\hat{r}$$ where $k=\\frac{1}{4\\pi\\epsilon_0}$, q is the value of charge in Coulombs and r is the distance between the point charge and the point P. $\\hat{r}$ is a unit vector pointing from the point charge to P, which can be defined as $\\hat{r}=\\frac{\\vec{r}}{r}$. \n",
    "\n",
    "To find the x,y and z components of the E field, we need to express the vector $\\vec{r}$ (or $\\hat{r}$) in cartesian coordinates. If the coordinates of the source point charge are $(x_s, y_s, z_s)$ and the coordinates of the point P are $(x_P, y_P, z_P)$, then the position vector $\\vec{r}$ can be written as \n",
    "\n",
    "$$\\vec{r} = (x_P-x_s) \\hat{i} + (y_P-y_s) \\hat{j} + (z_P-z_s) \\hat{k} $$.\n",
    "\n",
    "The above equations should help you when you fill in the function \"Calculate_E()\" in the code. <br>\n",
    "<b>Please fill in the missing lines in the following code. We provide some test cases so that you can check your work.</b>\n"
   ]
  },
  {
   "cell_type": "code",
   "execution_count": 5,
   "metadata": {
    "collapsed": false
   },
   "outputs": [
    {
     "name": "stdout",
     "output_type": "stream",
     "text": [
      "[0.0, 2.246887946999478, 0.0]\n",
      "[0.7644068026886633, -1.5288136053773267, 0.7644068026886633]\n"
     ]
    }
   ],
   "source": [
    "#Here we're importing the vpython package used to draw the charges and field arrows\n",
    "from vpython import *\n",
    "\n",
    "\n",
    "#Here we will complete a function that calculates the E field of a point charge at some point in space\n",
    "def calculate_E(q,q_loc,point_loc):\n",
    "    #The function takes the following generic inputs:\n",
    "    #q: value of the point charge in C,\n",
    "    #q_loc: the [x_s,y_s,z_s] coordinates of the charge in m,\n",
    "    #point_loc: [x_P,y_P,z_P] coordinates of the point in m\n",
    "    #To use a specific coordinate in the code, you need to index the list. E.g. x of charge is q_loc[0], y is q_loc[1], etc\n",
    "    #The function returns [E_x,E_y,E_z], the x,y & z components of the E field at the point P\n",
    "    \n",
    "    #Defining the constants epsilon_0 and k\n",
    "    e0 = 8.854187817e-12\n",
    "    k = 1.0 / (4 * pi * e0)\n",
    "\n",
    "    #First: Calculate the distance r between the charge and the point: [Syntax: use sqrt for square root, and x**2 for x^2]\n",
    "    #r = FILL IN \n",
    "    r = sqrt(((q_loc[0]-point_loc[0])**2) + ((q_loc[1]-point_loc[1])**2) + ((q_loc[2]-point_loc[2])**2))\n",
    "    \n",
    "    E = k * (q / (r**2))\n",
    "    \n",
    "    #Second: Calculate the components of E using E, r and the coordinates of q and P\n",
    "    #E_x = FILL IN\n",
    "    #E_y = FILL IN\n",
    "    #E_z = FILL IN\n",
    "    E_x = E * ((point_loc[0]-q_loc[0]) / r) \n",
    "    E_y = E * ((point_loc[1]-q_loc[1]) / r) \n",
    "    E_z = E * ((point_loc[2]-q_loc[2]) / r) \n",
    "    return([E_x,E_y,E_z])\n",
    "\n",
    "#Test cases:\n",
    "print(calculate_E(1e-9,[0,0,0],[0,2,0])) #should return [0.0, 2.246887946999478, 0.0]\n",
    "print(calculate_E(-5e-9,[-2,1,0],[0,-3,2])) #should return [-0.7644068026886633, 1.5288136053773267, -0.7644068026886633]\n",
    "print(calculate_E(-2e-9,[-1,3,-2],[-4,-3,-3])) #should return [0.17284463695641594, 0.3456892739128319, 0.05761487898547198]\n",
    "\n"
   ]
  },
  {
   "cell_type": "markdown",
   "metadata": {},
   "source": [
    "Only proceed to the following part if you finished task 1. Only then, the whole visualization program is complete and ready to use.\n",
    "\n",
    "In this part, we will use our program to analyze some charge configurations.\n",
    "<h2>Example 1: Four point charges at the corners of a square </h2>\n",
    "<img src=\"images/square.png\" width=200 />\n",
    "\n",
    "On a piece of paper, please draw the configuration in the picture and determine the direction of the net E field at the center of square without calculations. \n",
    "\n",
    "For the simulation purposes, we will use the values $Q = {10}^{-10} C$ and length of square $L= 2m$. If your \"Calculate_E()\" function above is ready, you don't need to change any part of the following code, just run it.\n"
   ]
  },
  {
   "cell_type": "code",
   "execution_count": null,
   "metadata": {
    "collapsed": false
   },
   "outputs": [],
   "source": [
    "\n",
    "# This is the ready function to draw the configuration and the fields. You don't need to read through this function\n",
    "# Just treat it as a black box that draws the configuration (unless you're interested in knowing how it works :) )\n",
    "def draw_configuration(charges,loc,points,draw_contributions = True):\n",
    "    scene = canvas() \n",
    "    for point in points:\n",
    "        Es = [calculate_E(charges[index],loc[index],point) for index in range(len(charges))]\n",
    "        E_tot = [sum(E) for E in zip(*Es)]\n",
    "        colors = [color.blue if charge<0 else color.red for charge in charges]\n",
    "        radii = [0.5e9*abs(charge) for charge in charges]\n",
    "        for index in range(len(charges)):\n",
    "            sphere(pos=vector(loc[index][0],loc[index][1],loc[index][2]), radius=radii[index], color=colors[index])\n",
    "        if mag(vector(E_tot[0], E_tot[1],E_tot[2])) >0:\n",
    "            Earrow_tot=arrow(pos=vector(point[0],point[1],point[2]), axis=vector(E_tot[0], E_tot[1],E_tot[2]), shaftwidth=0.05,color=color.green)\n",
    "        if draw_contributions:\n",
    "            for index in range(len(Es)):\n",
    "                E = Es[index]\n",
    "                arrow(pos=vector(point[0],point[1],point[2]), axis=vector(E[0], E[1],E[2]),  shaftwidth=0.03,color=colors[index])\n",
    "\n",
    "\n",
    "# To run the code, just supply the draw_configuration function with the charges, their locations and the points to calc E\n",
    "\n",
    "charges = [-2e-10,2e-10,-1e-10,1e-10]\n",
    "locations = [[1,1,0],[-1,1,0],[-1,-1,0],[1,-1,0]]\n",
    "points = [[0,0,0]]\n",
    "draw_configuration(charges,locations,points)\n",
    "\n",
    "#First run takes about 10 seconds to load. \n",
    "#Please save a screenshot of your output. \n",
    "#You're welcome to experiment with the above values, e.g. change the signs, values, locations of charges."
   ]
  },
  {
   "cell_type": "markdown",
   "metadata": {},
   "source": [
    "<h2>Task 2: Visualize the electric field of a dipole along its axis of symmetry </h2>\n",
    "<img src=\"images/dipole.png\" height=20 />\n",
    "\n",
    "In this example, we will use the program we built to draw the E field of a dipole that lies along the y-axis at different points along the x-axis. \n",
    "\n",
    "For the simulation purposes, we will use the values $Q = {10}^{-10} C$ and distance between charges $d= 3m$. You only need to modify the lists below that define the values and locations of charges and the points to draw the field at. Draw the field at multiple points along the x-axis within the range $x \\in$ [-2,2].\n"
   ]
  },
  {
   "cell_type": "code",
   "execution_count": null,
   "metadata": {
    "collapsed": false
   },
   "outputs": [],
   "source": [
    "#Students to fill in these values\n",
    "charges = [-1e-10,1e-10]\n",
    "locations = [[0,1.5,0],[0,-1.5,0]]\n",
    "points = [[0,0,0],[0.5,0,0],[-0.5,0,0],[-1,0,0],[1,0,0],[-2,0,0],[2,0,0],[-1.5,0,0],[1.5,0,0]]\n",
    "\n",
    "draw_configuration(charges,locations,points)"
   ]
  },
  {
   "cell_type": "code",
   "execution_count": null,
   "metadata": {
    "collapsed": true
   },
   "outputs": [],
   "source": []
  }
 ],
 "metadata": {
  "kernelspec": {
   "display_name": "Python 3.4",
   "language": "python",
   "name": "python3.4"
  },
  "language_info": {
   "codemirror_mode": {
    "name": "ipython",
    "version": 3
   },
   "file_extension": ".py",
   "mimetype": "text/x-python",
   "name": "python",
   "nbconvert_exporter": "python",
   "pygments_lexer": "ipython3",
   "version": "3.4.9"
  }
 },
 "nbformat": 4,
 "nbformat_minor": 1
}
