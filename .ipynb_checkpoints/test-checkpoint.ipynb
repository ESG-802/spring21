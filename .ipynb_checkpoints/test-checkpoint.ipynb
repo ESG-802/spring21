{
 "cells": [
  {
   "cell_type": "code",
   "execution_count": 1,
   "metadata": {
    "collapsed": false
   },
   "outputs": [
    {
     "data": {
      "text/html": [
       "<div id=\"glowscript\" class=\"glowscript\"></div>"
      ],
      "text/plain": [
       "<IPython.core.display.HTML object>"
      ]
     },
     "metadata": {},
     "output_type": "display_data"
    },
    {
     "data": {
      "application/javascript": [
       "if (typeof Jupyter !== \"undefined\") { window.__context = { glowscript_container: $(\"#glowscript\").removeAttr(\"id\")};}else{ element.textContent = ' ';}"
      ],
      "text/plain": [
       "<IPython.core.display.Javascript object>"
      ]
     },
     "metadata": {},
     "output_type": "display_data"
    }
   ],
   "source": [
    "from vpython import *\n",
    "scene = canvas() # This is needed in Jupyter notebook and lab to make programs easily rerunnable\n",
    "scene.caption = \"\"\"Right button drag or Ctrl-drag to rotate \"camera\" to view scene.\n",
    "To zoom, drag with middle button or Alt/Option depressed, or use scroll wheel.\n",
    "     On a two-button mouse, middle is left + right.\n",
    "Touch screen: pinch/extend to zoom, swipe or two-finger rotate.\"\"\"\n",
    "\n",
    "# Model Philae in a circular orbit around the comet\n",
    "# Original script by Rhett Allen (2014), modified by ESG-Python team (9/25/2015)\n",
    "\n",
    "\n",
    "\n",
    "\n",
    "# STEP 1: Define simulation constants and objects\n",
    "\n",
    "# Universal constant\n",
    "G = 6.67e-11 # N*(m^2)/(kg^2)    Universal gravitational constant\n",
    "\n",
    "# Comet constants and object\n",
    "comet_radius = 2e3 # m\n",
    "comet = sphere(pos = vec(0,0,0), radius = comet_radius) # Centered at origin\n",
    "comet.mass = 1.0e13 # kg    It's heavy\n",
    "\n",
    "# Philae data and object\n",
    "philae_radius = 125   # m    Philae is smaller, enlarged here for visuals\n",
    "r0 = vec(2.7e3, 0, 0) # m    Initial position of Philae\n",
    "philae = sphere(pos = r0, radius = philae_radius, color = color.cyan)\n",
    "philae.mass = 100 # kg\n",
    "v0 = sqrt(G * comet.mass / mag(philae.pos - comet.pos)) # m/s    Calculate the circular motion speed here. FILL ME IN!\n",
    "alpha = 90 #deg    converted to radians in next line\n",
    "philae.velocity = v0 * vec( -cos(alpha * pi / 180), sin(alpha * pi / 180), 0) # m/s    Full vector form of velocity\n",
    "\n",
    "\n",
    "# STEP 2: Initialize simulation variables and create nice display\n",
    "\n",
    "# Time and time steps\n",
    "t = 0\n",
    "dt = 0.10\n",
    "\n",
    "# Track Philae's motion, slow simulation\n",
    "attach_trail(philae)\n",
    "frequency = 1000000 # Orbits are slow, so we'll speed up the simulation\n",
    "\n",
    "\n",
    "\n",
    "# STEP 3: Execute simulation by repeatedly updating Philae's position\n",
    "\n",
    "# Use while loop to repeat position/velocity updates\n",
    "while t < 5000*60: # Update for a fixed number of time steps\n",
    "\n",
    "    # Slow update rate for watching humans\n",
    "    rate(frequency)\n",
    "    \n",
    "    # Update Philae position\n",
    "    philae.pos = philae.pos + (philae.velocity * dt) # m\n",
    "    \n",
    "    # When Philae position changes, position relative to comet changes\n",
    "    r = philae.pos - comet.pos # m\n",
    "    \n",
    "    # Calculate new gravitational force magnitude\n",
    "    Fg_mag = G * comet.mass * philae.mass / mag(r)**2 # N    Calculate the magnitude of the gravitational force here. FILL ME IN!\n",
    "    \n",
    "    # Gravitational force is always antiparallel to relative position vector\n",
    "    Fg_dir = -norm(r) # norm(vec) gives unit vector in direction of vec\n",
    "    \n",
    "    # Multiply magnitude scalar and unit vector to create full force vector\n",
    "    Fg = Fg_mag * Fg_dir # N    F is now a full vector quantity\n",
    "    \n",
    "    # Use Fg to calculate magnitude\n",
    "    philae.accel =  Fg / philae.mass # m/s^2\n",
    "    \n",
    "    # With acceleration available, we can now update velocity\n",
    "    philae.velocity = philae.velocity + (philae.accel * dt) # m/s\n",
    "    \n",
    "    # Don't forget to keep time up to date!\n",
    "    t = t + dt # s\n"
   ]
  },
  {
   "cell_type": "code",
   "execution_count": null,
   "metadata": {
    "collapsed": false
   },
   "outputs": [],
   "source": []
  }
 ],
 "metadata": {
  "kernelspec": {
   "display_name": "Python 3.7",
   "language": "python",
   "name": "python3.7"
  },
  "language_info": {
   "codemirror_mode": {
    "name": "ipython",
    "version": 3
   },
   "file_extension": ".py",
   "mimetype": "text/x-python",
   "name": "python",
   "nbconvert_exporter": "python",
   "pygments_lexer": "ipython3",
   "version": "3.7.0"
  }
 },
 "nbformat": 4,
 "nbformat_minor": 0
}
