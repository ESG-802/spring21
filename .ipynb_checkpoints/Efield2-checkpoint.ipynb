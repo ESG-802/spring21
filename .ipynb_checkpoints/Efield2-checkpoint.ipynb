{
 "cells": [
  {
   "cell_type": "code",
   "execution_count": null,
   "metadata": {
    "collapsed": true
   },
   "outputs": [],
   "source": [
    "\n",
    "import numpy as np\n",
    "from vpython import *\n",
    "\n",
    "\n",
    "E0 = 8.854187817e-12\n",
    "k = 1.0 / (4 * pi * E0)\n",
    "#define coordinates of the charges\n",
    "loc = [[1,1,0],[-1,1,0],[-1,-1,0],[1,-1,0]]\n",
    "charges = [-2e-10,2e-10,-1e-10,1e-10]\n",
    "points = [[0,0,0]]\n",
    "\n",
    "\n",
    "def calculate_E(q,q_loc,point):\n",
    "    r = sqrt(((q_loc[0]-point[0])**2) + ((q_loc[1]-point[1])**2) + ((q_loc[2]-point[2])**2))\n",
    "    Emag = k * (q / (r**2))\n",
    "    E_x = Emag * ((point[0]-q_loc[0]) / r) \n",
    "    E_y = Emag * ((point[1]-q_loc[1]) / r) \n",
    "    E_z = Emag * ((point[2]-q_loc[2]) / r) \n",
    "    return([E_x,E_y,E_z])\n",
    "\n",
    "def draw_configuration(charges,loc,points,draw_arrows = True):\n",
    "    scene = canvas() # This is needed in Jupyter notebook and lab to make programs easily rerunnable\n",
    "    scene.caption = \"\"\"Right button drag or Ctrl-drag to rotate \"camera\" to view scene.\n",
    "    To zoom, drag with middle button or Alt/Option depressed, or use scroll wheel.\n",
    "         On a two-button mouse, middle is left + right.\n",
    "    Touch screen: pinch/extend to zoom, swipe or two-finger rotate.\"\"\"\n",
    "    for point in points:\n",
    "        Es = [calculate_E(charges[index],loc[index],point) for index in range(len(charges))]\n",
    "        E_tot = [sum(E) for E in zip(*Es)]\n",
    "\n",
    "        #draw the charges\n",
    "        colors = [color.blue if charge<0 else color.red for charge in charges]\n",
    "        radii = [0.5e9*abs(charge) for charge in charges]\n",
    "\n",
    "        for index in range(len(charges)):\n",
    "\n",
    "            sphere(pos=vector(loc[index][0],loc[index][1],loc[index][2]), radius=radii[index], color=colors[index])\n",
    "\n",
    "\n",
    "\n",
    "        Earrow_tot=arrow(pos=vector(point[0],point[1],point[2]), axis=vector(E_tot[0], E_tot[1],E_tot[2]), shaftwidth=0.05,color=color.green)\n",
    "        if draw_arrows:\n",
    "            for index in range(len(Es)):\n",
    "\n",
    "                E = Es[index]\n",
    "                arrow(pos=vector(point[0],point[1],point[2]), axis=vector(E[0], E[1],E[2]),  shaftwidth=0.03,color=colors[index])\n",
    "\n",
    "\n",
    "\n",
    "draw_configuration(charges,loc,points)\n"
   ]
  },
  {
   "cell_type": "code",
   "execution_count": null,
   "metadata": {
    "collapsed": true
   },
   "outputs": [],
   "source": [
    "#define coordinates of the charges\n",
    "loc = [[0,1.5,0],[0,-1.5,0]]\n",
    "charges = [-1e-10,1e-10]\n",
    "points = [[0,0,0],[0.5,0,0],[-0.5,0,0],[-1,0,0],[1,0,0],[-2,0,0],[2,0,0]]\n",
    "\n",
    "draw_configuration(charges,loc,points,draw_arrows = False)"
   ]
  }
 ],
 "metadata": {
  "kernelspec": {
   "display_name": "Python 3.4",
   "language": "python",
   "name": "python3.4"
  },
  "language_info": {
   "codemirror_mode": {
    "name": "ipython",
    "version": 3
   },
   "file_extension": ".py",
   "mimetype": "text/x-python",
   "name": "python",
   "nbconvert_exporter": "python",
   "pygments_lexer": "ipython3",
   "version": "3.4.9"
  }
 },
 "nbformat": 4,
 "nbformat_minor": 0
}
